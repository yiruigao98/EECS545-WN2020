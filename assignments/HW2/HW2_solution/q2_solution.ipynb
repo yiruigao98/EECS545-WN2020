{
 "cells": [
  {
   "cell_type": "markdown",
   "metadata": {},
   "source": [
    "## Part (b) [14 points]"
   ]
  },
  {
   "cell_type": "markdown",
   "metadata": {},
   "source": [
    "Accuracy should be higher than 90% (around 92%-96%) depending on the stopping criteria"
   ]
  },
  {
   "cell_type": "code",
   "execution_count": 1,
   "metadata": {},
   "outputs": [
    {
     "name": "stdout",
     "output_type": "stream",
     "text": [
      "The accuracy is:  94.0 %\n"
     ]
    }
   ],
   "source": [
    "import numpy as np\n",
    "import matplotlib.pyplot as plt\n",
    "%matplotlib inline\n",
    "\n",
    "# Load data\n",
    "q2_data = np.load('q2_data\\q2_data.npz')\n",
    "q2x_train = q2_data['q2x_train']\n",
    "q2x_test = q2_data['q2x_test']\n",
    "q2y_train = q2_data['q2y_train']\n",
    "q2y_test = q2_data['q2y_test']\n",
    "\n",
    "# TRAINING \n",
    "N = q2x_train.shape[0]        # number of samples in training dataset\n",
    "M = q2x_train.shape[1]        # dimension of feature\n",
    "K = len(np.unique(q2y_test))  # number of class labels\n",
    "W = np.zeros((K, M), dtype=np.float32)\n",
    "\n",
    "# Computes probabilities for x being each class. \n",
    "def compute_softmax_probs(W, x):\n",
    "    # W : K * M matrix (the last row is a zero vector)\n",
    "    # x : 1 * M\n",
    "    probs = np.exp(np.matmul(W, x.T))\n",
    "    probs = probs/sum(probs)\n",
    "    \n",
    "    return np.reshape(probs, (K, 1))\n",
    "\n",
    "# TRAINING \n",
    "alpha = 0.0005;\n",
    "count_c = 0\n",
    "count_iteration = 0\n",
    "while True:\n",
    "    # A single iteration over all training examples\n",
    "    delta_W = np.zeros((K, M), dtype=np.float32)\n",
    "    for i in range(N):\n",
    "        indicator = np.zeros((K,1), dtype=np.int)\n",
    "        indicator[int(q2y_train[i,0])-1] = 1\n",
    "        probs = compute_softmax_probs(W, q2x_train[i, :])\n",
    "        \n",
    "        delta_W = delta_W + np.multiply(np.tile(q2x_train[i, :], (K, 1)), np.tile((indicator - probs), (1, M)))\n",
    "    \n",
    "    W_new = W + alpha * delta_W\n",
    "    W[:K-1, :] = W_new[:K-1, :]\n",
    "    \n",
    "    # Stopping criteria\n",
    "    count_c += 1 if count_iteration > 300 and np.sum(abs(alpha * delta_W)) < 0.05 else 0\n",
    "    if count_c > 5:\n",
    "        break\n",
    "    count_iteration += 1\n",
    "\n",
    "# Compute accuracy\n",
    "count_correct = 0;\n",
    "N_test = q2x_test.shape[0]\n",
    "for i in range(N_test):\n",
    "    probs = compute_softmax_probs(W, q2x_test[i, :])\n",
    "    idx = np.argmax(probs)\n",
    "    if (idx+1 == q2y_test[i]):\n",
    "        count_correct += 1\n",
    "\n",
    "accuracy = count_correct / N_test\n",
    "print('The accuracy is: ', 100*accuracy, '%')"
   ]
  },
  {
   "cell_type": "markdown",
   "metadata": {},
   "source": [
    "## Validaiton using sklearn (not part of the grading)"
   ]
  },
  {
   "cell_type": "code",
   "execution_count": 5,
   "metadata": {},
   "outputs": [
    {
     "name": "stdout",
     "output_type": "stream",
     "text": [
      "The accuracy is:  92.0 %\n"
     ]
    }
   ],
   "source": [
    "from sklearn.linear_model import LogisticRegression\n",
    "\n",
    "# Load data\n",
    "q2_data = np.load('q2_data\\q2_data.npz')\n",
    "q2x_train = q2_data['q2x_train']\n",
    "q2x_test = q2_data['q2x_test']\n",
    "q2y_train = q2_data['q2y_train']\n",
    "q2y_test = q2_data['q2y_test']\n",
    "\n",
    "# [Accuracy depends on the solver] newton-cg and lbgs: 92%, sag: 96%, saga: 94%\n",
    "MLR = LogisticRegression(multi_class='multinomial',solver ='newton-cg')\n",
    "MLR.fit(q2x_train,q2y_train.reshape(q2x_train.shape[0],))\n",
    "\n",
    "# Generate predictions and compute accuracy\n",
    "preds = MLR.predict(q2x_test)\n",
    "error = sum(abs(preds - q2y_test.reshape(q2y_test.shape[0],)))\n",
    "accuracy = 100*(1 - error/q2y_test.shape[0])\n",
    "\n",
    "print('The accuracy is: ', accuracy, '%')"
   ]
  }
 ],
 "metadata": {
  "kernelspec": {
   "display_name": "Python [conda env:root] *",
   "language": "python",
   "name": "conda-root-py"
  },
  "language_info": {
   "codemirror_mode": {
    "name": "ipython",
    "version": 3
   },
   "file_extension": ".py",
   "mimetype": "text/x-python",
   "name": "python",
   "nbconvert_exporter": "python",
   "pygments_lexer": "ipython3",
   "version": "3.7.3"
  }
 },
 "nbformat": 4,
 "nbformat_minor": 2
}
