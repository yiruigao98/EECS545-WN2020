{
 "cells": [
  {
   "cell_type": "code",
   "execution_count": 2,
   "metadata": {},
   "outputs": [],
   "source": [
    "import numpy as np\n",
    "import matplotlib.pyplot as plt\n",
    "%matplotlib inline\n",
    "\n",
    "def nb_train(matrix, category):\n",
    "    state = {}\n",
    "    M = matrix.shape[1]\n",
    "    ###################\n",
    "    spam = matrix[category == 1, :]\n",
    "    nospam = matrix[category == 0, :]\n",
    "    \n",
    "    spam_num_words = spam.sum(axis = 1)\n",
    "    nospam_num_words = nospam.sum(axis = 1)\n",
    "\n",
    "    state['mu_spam'] = (spam.sum(axis = 0) + 1) / (np.sum(spam_num_words) + M)\n",
    "    state['mu_nospam'] = (nospam.sum(axis = 0) + 1) / (np.sum(nospam_num_words) + M)\n",
    "    state['phi'] = spam.shape[0]/(spam.shape[0]+nospam.shape[0])\n",
    "    ###################\n",
    "    return state\n",
    "\n",
    "def nb_test(matrix, state):\n",
    "    output = np.zeros(matrix.shape[0])\n",
    "    ###################\n",
    "    Data_LL_spam = np.matmul(matrix, np.log(state['mu_spam']))\n",
    "    Data_LL_nospam = np.matmul(matrix, np.log(state['mu_nospam']))\n",
    "    phi = state['phi']\n",
    "  \n",
    "    output[Data_LL_spam + np.log(phi) > Data_LL_nospam + np.log(1-phi)] = 1\n",
    "    ###################\n",
    "    return output\n",
    "\n",
    "def readMatrix(file):\n",
    "    fd = open(file, 'r')\n",
    "    hdr = fd.readline()\n",
    "    rows, cols = [int(s) for s in fd.readline().strip().split()]\n",
    "    tokens = fd.readline().strip().split()\n",
    "    matrix = np.zeros((rows, cols))\n",
    "    Y = []\n",
    "    for i, line in enumerate(fd):\n",
    "        nums = [int(x) for x in line.strip().split()]\n",
    "        Y.append(nums[0])\n",
    "        kv = np.array(nums[1:])\n",
    "        k = np.cumsum(kv[:-1:2])\n",
    "        v = kv[1::2]\n",
    "        matrix[i, k] = v\n",
    "    return matrix, tokens, np.array(Y)\n",
    "\n",
    "def evaluate(output, label):\n",
    "    # Use the code below to obtain the accuracy of your algorithm\n",
    "    error = (output != label).sum() * 1. / len(output)\n",
    "    print('Error: {:2.4f}%'.format(100*error))\n",
    "    \n",
    "    return error"
   ]
  },
  {
   "cell_type": "markdown",
   "metadata": {},
   "source": [
    "## Part (a)"
   ]
  },
  {
   "cell_type": "markdown",
   "metadata": {},
   "source": [
    "[12 points] The test error when training on the full training set is 1.625%. A different error means that the implemented is probably a wrong Naive\n",
    "Bayes Model."
   ]
  },
  {
   "cell_type": "code",
   "execution_count": 3,
   "metadata": {},
   "outputs": [
    {
     "name": "stdout",
     "output_type": "stream",
     "text": [
      "Error: 1.6250%\n"
     ]
    },
    {
     "data": {
      "text/plain": [
       "0.01625"
      ]
     },
     "execution_count": 3,
     "metadata": {},
     "output_type": "execute_result"
    }
   ],
   "source": [
    "# Load files\n",
    "dataMatrix_train, tokenlist, category_train = readMatrix('q4_data/MATRIX.TRAIN')\n",
    "dataMatrix_test, tokenlist, category_test = readMatrix('q4_data/MATRIX.TEST')\n",
    "tokenlist = np.array(tokenlist)\n",
    "\n",
    "# Train\n",
    "state = nb_train(dataMatrix_train, category_train)\n",
    "\n",
    "# Test and evluate\n",
    "prediction = nb_test(dataMatrix_test, state)\n",
    "evaluate(prediction, category_test)"
   ]
  },
  {
   "cell_type": "markdown",
   "metadata": {},
   "source": [
    "## Part (b)"
   ]
  },
  {
   "cell_type": "markdown",
   "metadata": {},
   "source": [
    "    The five most indicative words for the spam class are: httpaddr, spam, unsubscrib, ebai, and valet."
   ]
  },
  {
   "cell_type": "code",
   "execution_count": 4,
   "metadata": {},
   "outputs": [
    {
     "name": "stdout",
     "output_type": "stream",
     "text": [
      "['httpaddr' 'spam' 'unsubscrib' 'ebai' 'valet']\n"
     ]
    }
   ],
   "source": [
    "likely_spam_tokens = np.argsort(state['mu_spam']/state['mu_nospam'])[-5:]\n",
    "print(tokenlist[likely_spam_tokens][::-1])"
   ]
  },
  {
   "cell_type": "markdown",
   "metadata": {},
   "source": [
    "## Part (c)"
   ]
  },
  {
   "cell_type": "markdown",
   "metadata": {},
   "source": [
    "[Total 9 points] "
   ]
  },
  {
   "cell_type": "code",
   "execution_count": 5,
   "metadata": {},
   "outputs": [
    {
     "name": "stdout",
     "output_type": "stream",
     "text": [
      "Error: 3.8750%\n",
      "Error: 2.6250%\n",
      "Error: 2.6250%\n",
      "Error: 1.8750%\n",
      "Error: 1.7500%\n",
      "Error: 1.6250%\n"
     ]
    }
   ],
   "source": [
    "train_sizes = np.array([50, 100, 200, 400, 800, 1400])\n",
    "errors = np.ones(train_sizes.shape)\n",
    "for i, train_size in enumerate(train_sizes):\n",
    "    dataMatrix_train, tokenlist, category_train = readMatrix('q4_data/MATRIX.TRAIN.'+str(train_size))\n",
    "    state = nb_train(dataMatrix_train, category_train)\n",
    "    prediction = nb_test(dataMatrix_test, state)\n",
    "    errors[i] = evaluate(prediction, category_test)"
   ]
  },
  {
   "cell_type": "code",
   "execution_count": 6,
   "metadata": {},
   "outputs": [
    {
     "data": {
      "image/png": "[encoded data removed]",
      "text/plain": [
       "<Figure size 432x288 with 1 Axes>"
      ]
     },
     "metadata": {
      "needs_background": "light"
     },
     "output_type": "display_data"
    }
   ],
   "source": [
    "plt.plot(train_sizes,errors*100);\n",
    "plt.xlabel('Training Size');\n",
    "plt.ylabel('Test Error (%)');"
   ]
  }
 ],
 "metadata": {
  "kernelspec": {
   "display_name": "Python [conda env:root] *",
   "language": "python",
   "name": "conda-root-py"
  },
  "language_info": {
   "codemirror_mode": {
    "name": "ipython",
    "version": 3
   },
   "file_extension": ".py",
   "mimetype": "text/x-python",
   "name": "python",
   "nbconvert_exporter": "python",
   "pygments_lexer": "ipython3",
   "version": "3.7.3"
  }
 },
 "nbformat": 4,
 "nbformat_minor": 2
}
