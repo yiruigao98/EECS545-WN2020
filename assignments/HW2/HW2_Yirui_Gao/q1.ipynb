{
 "cells": [
  {
   "cell_type": "code",
   "execution_count": null,
   "metadata": {},
   "outputs": [],
   "source": [
    "import numpy as np\n",
    "import matplotlib.pyplot as plt\n",
    "%matplotlib inline\n",
    "\n",
    "# Load data\n",
    "q1_digits = np.load('q1_data/q1_digits.npz')\n",
    "digits_train = q1_digits['digits_train']\n",
    "labels_train = q1_digits['labels_train']\n",
    "\n",
    "# Display an image of a digit\n",
    "plt.figure()\n",
    "plt.imshow(digits_train[0,:,:]) # first example in the training dataset\n",
    "#plt.savefig('digit.png')\n",
    "\n",
    "# Print the class of the first example\n",
    "print('The class label of the first example:', labels_train[0])\n",
    "\n",
    "# Plot multiple images (1 by 3)\n",
    "fig, ax = plt.subplots(nrows=1, ncols=3)\n",
    "ax[0].imshow(digits_train[0,:,:])\n",
    "ax[1].imshow(digits_train[1,:,:])\n",
    "ax[2].imshow(digits_train[2,:,:])\n",
    "#plt.savefig('many_digit.png')"
   ]
  },
  {
   "cell_type": "markdown",
   "metadata": {},
   "source": [
    "First, implment distance function:"
   ]
  },
  {
   "cell_type": "code",
   "execution_count": null,
   "metadata": {},
   "outputs": [],
   "source": [
    "def euclidean(x1, x2):\n",
    "    return np.linalg.norm(x1 - x2)\n",
    "\n",
    "# Manhattan distance implementation:\n",
    "def manhattan(x1, x2):\n",
    "    return np.linalg.norm(x1 - x2, ord = 1)\n",
    "\n",
    "# Cosine similarity implementation:\n",
    "def cosine(x1, x2):\n",
    "    nu = np.sum(x1 * x2)\n",
    "    de = np.linalg.norm(x1) * np.linalg.norm(x2)\n",
    "    return 1 - nu / de\n",
    "\n",
    "# Chebyshev distance implementation:\n",
    "def chebyshev(x1, x2):\n",
    "    return np.max(abs(x1 - x2))"
   ]
  },
  {
   "cell_type": "markdown",
   "metadata": {},
   "source": [
    "Next, implement get neighbors function:"
   ]
  },
  {
   "cell_type": "code",
   "execution_count": null,
   "metadata": {},
   "outputs": [],
   "source": [
    "# Load test digits and labels:\n",
    "digits_test = q1_digits['digits_test']\n",
    "labels_test = q1_digits['labels_test']\n",
    "\n",
    "def indirect(distance, X1, X2):\n",
    "    options = {\n",
    "        \"euclidean\": euclidean(X1, X2),\n",
    "        \"manhattan\": manhattan(X1, X2),\n",
    "        \"cosine\": cosine(X1, X2),\n",
    "        \"chebyshev\": chebyshev(X1, X2)\n",
    "    }\n",
    "    return options[distance]\n",
    "\n",
    "\n",
    "def get_neighbor(k, X_train, x_test, dist):\n",
    "    distance_dic = {}\n",
    "    for i in range(len(X_train)):\n",
    "        distance = indirect(dist, X_train[i], x_test)\n",
    "        distance_dic[i] = distance\n",
    "    sorted_dic = sorted(distance_dic.items(), key = lambda x: x[1])[:k]\n",
    "    return sorted_dic\n",
    "\n",
    "# get_neighbor(8, digits_train, digits_test[19], \"euclidean\")"
   ]
  },
  {
   "cell_type": "markdown",
   "metadata": {},
   "source": [
    "Now do question (a):"
   ]
  },
  {
   "cell_type": "code",
   "execution_count": null,
   "metadata": {},
   "outputs": [],
   "source": [
    "def q_a(k, X_train, y_train, X_test):\n",
    "    \n",
    "    for j in range(len(X_test)):\n",
    "        # Plot test images:\n",
    "        print(\"The image of the #{} test data: \".format(j + 1))\n",
    "        plt.figure()\n",
    "        plt.imshow(X_test[j,:,:])\n",
    "        plt.savefig('submit_image_q1a/test-image-{}.png'.format(j))\n",
    "        \n",
    "        neighbors = get_neighbor(k, X_train, X_test[j], \"euclidean\")\n",
    "        indices = [d[0] for d in neighbors]\n",
    "        classes = [np.asscalar(i) for i in y_train[indices]]\n",
    "\n",
    "        print(\"The indices for {} nearest neighbors of test image {} are: {}\".format(k, j, indices))\n",
    "        print(\"The classes for {} nearest neighbors of test image {} are: {}\".format(k, j, classes))\n",
    "        # Print nearest neighbors images:\n",
    "        print(\"The image of the {} nearest neighbors are: \".format(k))\n",
    "\n",
    "        fig, ax = plt.subplots(nrows=1, ncols = k)\n",
    "\n",
    "        for m in range(len(indices)):\n",
    "            ax[m].imshow(digits_train[indices[m],:,:])\n",
    "        fig.savefig('submit_image_q1a/neighbors-under-test-image-{}.png'.format(j))\n",
    "\n",
    "\n",
    "q_a(8, digits_train, labels_train, digits_test[:5])\n",
    "        "
   ]
  },
  {
   "cell_type": "markdown",
   "metadata": {},
   "source": [
    "Implement the classify and accuracy function:"
   ]
  },
  {
   "cell_type": "code",
   "execution_count": null,
   "metadata": {},
   "outputs": [],
   "source": [
    "def classify(indices, labels):\n",
    "    count_dic = {}\n",
    "    for item in zip(indices, labels):\n",
    "        if not item[1] in count_dic:\n",
    "            count_dic[item[1]] = 0\n",
    "        count_dic[item[1]] += 1\n",
    "    predicted_class = sorted(count_dic.items(), key = lambda x: -x[1])[0][0]\n",
    "    return predicted_class\n",
    "\n",
    "\n",
    "def get_accuracy(true_y, predicted_y):\n",
    "    count = 0\n",
    "    l = len(true_y)\n",
    "    for i in range(l):\n",
    "        if true_y[i] == predicted_y[i]:\n",
    "            count += 1\n",
    "    accuracy = count / l\n",
    "    print(\"The classification accuracy is {}\".format(accuracy))\n",
    "    return accuracy\n",
    "        "
   ]
  },
  {
   "cell_type": "markdown",
   "metadata": {},
   "source": [
    "Now do question (b):"
   ]
  },
  {
   "cell_type": "code",
   "execution_count": null,
   "metadata": {},
   "outputs": [],
   "source": [
    "def q_b(k, X_train, y_train, X_test, y_test, dist = \"euclidean\"):\n",
    "    true_y_list = [np.asscalar(i) for i in y_test]\n",
    "    predicted_y_list = []\n",
    "    \n",
    "    for j in range(len(X_test)):\n",
    "#         print(y_test[j])\n",
    "        neighbors = get_neighbor(k, X_train, X_test[j], dist)\n",
    "        indices = [d[0] for d in neighbors]\n",
    "        classes = [np.asscalar(i) for i in y_train[indices]]\n",
    "#         print(\"Classes are: \", classes)\n",
    "        predicted_class = classify(indices, classes)\n",
    "        predicted_y_list.append(predicted_class)\n",
    "    accuracy = get_accuracy(true_y_list, predicted_y_list)\n",
    "    return accuracy\n",
    "    \n"
   ]
  },
  {
   "cell_type": "code",
   "execution_count": null,
   "metadata": {},
   "outputs": [],
   "source": [
    "q_b(10, digits_train.reshape(len(digits_train), 784), labels_train, digits_test.reshape(len(digits_test), 784), labels_test)"
   ]
  },
  {
   "cell_type": "markdown",
   "metadata": {},
   "source": [
    "Now do question (c) coding part:"
   ]
  },
  {
   "cell_type": "code",
   "execution_count": null,
   "metadata": {
    "scrolled": false
   },
   "outputs": [],
   "source": [
    "k_list = [1,2,5,8,10,20,50]\n",
    "accuracy_list = []\n",
    "for k in k_list:\n",
    "    print(\"For k = {}:\".format(k))\n",
    "    accuracy_list.append(q_b(k, digits_train, labels_train, digits_test, labels_test))\n",
    "# Plot the graph related the choice of k with the accuracies:\n",
    "plt.figure()\n",
    "plt.plot(k_list, accuracy_list, '--o', c = \"red\")\n",
    "plt.title(\"Accuracy Changes as k Changes\")\n",
    "plt.xlabel(\"k\")\n",
    "plt.ylabel(\"Accuracy\")\n",
    "plt.show()\n",
    "plt.savefig(\"q1c.png\")"
   ]
  },
  {
   "cell_type": "code",
   "execution_count": null,
   "metadata": {},
   "outputs": [],
   "source": [
    "q_b(10, digits_train, labels_train, digits_test, labels_test, \"manhattan\")"
   ]
  },
  {
   "cell_type": "code",
   "execution_count": null,
   "metadata": {},
   "outputs": [],
   "source": [
    "q_b(10, digits_train, labels_train, digits_test, labels_test, \"cosine\")"
   ]
  },
  {
   "cell_type": "code",
   "execution_count": null,
   "metadata": {},
   "outputs": [],
   "source": [
    "q_b(10, digits_train, labels_train, digits_test, labels_test, \"chebyshev\")"
   ]
  },
  {
   "cell_type": "code",
   "execution_count": null,
   "metadata": {},
   "outputs": [],
   "source": []
  }
 ],
 "metadata": {
  "kernelspec": {
   "display_name": "Python 3",
   "language": "python",
   "name": "python3"
  },
  "language_info": {
   "codemirror_mode": {
    "name": "ipython",
    "version": 3
   },
   "file_extension": ".py",
   "mimetype": "text/x-python",
   "name": "python",
   "nbconvert_exporter": "python",
   "pygments_lexer": "ipython3",
   "version": "3.7.2"
  }
 },
 "nbformat": 4,
 "nbformat_minor": 2
}
