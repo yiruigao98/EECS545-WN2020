{
 "cells": [
  {
   "cell_type": "markdown",
   "metadata": {
    "colab_type": "text",
    "id": "tq4RK9KJM8LG"
   },
   "source": [
    "# EECS545 WN2020 Python Tutorial"
   ]
  },
  {
   "cell_type": "markdown",
   "metadata": {
    "colab_type": "text",
    "id": "sHook8-AP7of"
   },
   "source": [
    "Instructors:\n",
    "\n",
    "- **Sungryull Sohn** <srsohn@umich.edu>\n",
    "- Yijie Guo <guoyijie@umich.edu>\n",
    "- GS Oh <gsoh@umich.edu>\n"
   ]
  },
  {
   "cell_type": "markdown",
   "metadata": {
    "colab_type": "text",
    "id": "0-Nj6WKhM8LH"
   },
   "source": [
    "Adapted from:\n",
    "- EECS545 FA2019 Python Tutorial (Part I) by [Jongwook choi](https://wook.kr/)\n",
    "- CS231n python Tutorial by [Volodymyr Kuleshov](http://ai.stanford.edu/~kuleshov/) and [Isaac Caswell](https://www.linkedin.com/in/isaac-caswell-5b264451),\n",
    "- the `CS231n` Python tutorial by Justin Johnson (http://cs231n.github.io/python-numpy-tutorial/).\n",
    "- EECS 545 Fall 2017 & Winter 2018 Python Tutorial\n",
    "- Python Data Science Handbook (O'Reilly): https://github.com/jakevdp/PythonDataScienceHandbook"
   ]
  },
  {
   "cell_type": "markdown",
   "metadata": {
    "colab_type": "text",
    "id": "8VDga3Xd0cjc"
   },
   "source": [
    "# Outline\n",
    "\n",
    "- **Environment Setup (Installation, Anaconda, Jupyter)** (15 mins)\n",
    "- **Basics of Python** (20 mins)\n",
    "- **Numpy** (25 mins)"
   ]
  },
  {
   "cell_type": "markdown",
   "metadata": {
    "colab_type": "text",
    "id": "DZh66kH8M8LI"
   },
   "source": [
    "# Introduction"
   ]
  },
  {
   "cell_type": "markdown",
   "metadata": {
    "colab_type": "text",
    "id": "in7enAOMM8LI"
   },
   "source": [
    "Python is a great general-purpose programming language on its own, but with the help of a few popular libraries (numpy, scipy) it becomes a powerful environment for scientific computing.\n",
    "\n",
    "We expect that many of you will have some experience with Python and numpy; for the rest of you, this section will serve as a quick crash course both on the Python programming language and on the use of Python for scientific computing.\n",
    "\n",
    "Some of you may have previous knowledge in Matlab, in which case we also recommend the numpy for Matlab users page (https://docs.scipy.org/doc/numpy-dev/user/numpy-for-matlab-users.html)."
   ]
  },
  {
   "cell_type": "markdown",
   "metadata": {
    "colab_type": "text",
    "id": "6twBV9mUM8LJ"
   },
   "source": [
    "In this tutorial, we will cover:\n",
    "\n",
    "* Basic Python: Basic data types, Containers, Lists, Dictionaries, Sets, Tuples, Functions, Classes\n",
    "* Numpy: Arrays, Array indexing, Datatypes, Array math, Broadcasting\n",
    "* IPython: Creating notebooks, Typical workflows"
   ]
  },
  {
   "cell_type": "markdown",
   "metadata": {
    "colab_type": "text",
    "id": "OyuMJyEg0cjg"
   },
   "source": [
    "# Installation"
   ]
  },
  {
   "cell_type": "markdown",
   "metadata": {
    "colab_type": "text",
    "id": "vIxA2iWR0cjg"
   },
   "source": [
    "## Anaconda Python 3"
   ]
  },
  {
   "cell_type": "markdown",
   "metadata": {
    "colab_type": "text",
    "id": "4ClAwQ6K0cjh"
   },
   "source": [
    "In EECS 545, we will be using Python 3 (Python 3.6 or 3.7 is highly recommended).\n",
    "\n",
    "We in particular recommend you install Anaconda for **Python 3**: https://www.anaconda.com/download/. Anaconda is a distribution of Python that has common libraries for this course pre-installed. You can test your installation and that the appropriate libraries are available by running the line of code below:"
   ]
  },
  {
   "cell_type": "code",
   "execution_count": 34,
   "metadata": {
    "colab": {
     "base_uri": "https://localhost:8080/",
     "height": 35
    },
    "colab_type": "code",
    "executionInfo": {
     "elapsed": 483,
     "status": "ok",
     "timestamp": 1579216074685,
     "user": {
      "displayName": "Sungryull Sohn",
      "photoUrl": "",
      "userId": "06647518667646069751"
     },
     "user_tz": 300
    },
    "id": "3ip9Htgg0cji",
    "outputId": "3ddae6ad-429a-45f7-9c26-1c6f56457168"
   },
   "outputs": [
    {
     "data": {
      "text/plain": [
       "'3.6.9 (default, Nov  7 2019, 10:44:02) \\n[GCC 8.3.0]'"
      ]
     },
     "execution_count": 34,
     "metadata": {
      "tags": []
     },
     "output_type": "execute_result"
    }
   ],
   "source": [
    "import sys\n",
    "sys.version"
   ]
  },
  {
   "cell_type": "code",
   "execution_count": 5,
   "metadata": {
    "colab": {
     "base_uri": "https://localhost:8080/",
     "height": 35
    },
    "colab_type": "code",
    "executionInfo": {
     "elapsed": 369,
     "status": "ok",
     "timestamp": 1579212951064,
     "user": {
      "displayName": "Sungryull Sohn",
      "photoUrl": "",
      "userId": "06647518667646069751"
     },
     "user_tz": 300
    },
    "id": "yZ0eXN7F0cjm",
    "outputId": "718bd2ea-e646-4ae8-bad5-aeba05f60744"
   },
   "outputs": [
    {
     "data": {
      "text/plain": [
       "'1.17.5'"
      ]
     },
     "execution_count": 5,
     "metadata": {
      "tags": []
     },
     "output_type": "execute_result"
    }
   ],
   "source": [
    "import numpy as np\n",
    "np.__version__"
   ]
  },
  {
   "cell_type": "markdown",
   "metadata": {
    "colab_type": "text",
    "id": "4ELCgQSv0cjp"
   },
   "source": [
    "If you need to install a python package, you can run a `pip install` command. For example:\n",
    "\n",
    "```\n",
    "$ pip install pandas\n",
    "```"
   ]
  },
  {
   "cell_type": "code",
   "execution_count": 0,
   "metadata": {
    "colab": {},
    "colab_type": "code",
    "id": "JbD2WCiS0cjp"
   },
   "outputs": [],
   "source": [
    "import pandas"
   ]
  },
  {
   "cell_type": "markdown",
   "metadata": {
    "colab_type": "text",
    "id": "eCl9Fs_00cjs"
   },
   "source": [
    "## Jupyter Notebook"
   ]
  },
  {
   "cell_type": "markdown",
   "metadata": {
    "colab_type": "text",
    "id": "Cch93c8t0cjs"
   },
   "source": [
    "In this tutorial, we will use Jupyter Notebook (Jupyter Lab). The Jupyter Notebook is a powerful tool and workspace for interactively developing your python codes and visualizing the results. In a larger scale project you will have to write in several python code files (`.py`) or modules, but in this tutorial we will mainly work on Jupyter Notebooks.\n",
    "\n",
    "In particular, we strongly recommend to use **Jupyter Lab**:\n",
    "\n",
    "```bash\n",
    "$ pip install jupyter-lab\n",
    "$ jupyter-lab\n",
    "```\n",
    "\n",
    "You can open this notebook file and start from there -- edit code cells and run them. For more detailed user guide, please have a look at some useful resources:\n",
    "\n",
    "* Documentation: https://jupyterlab.readthedocs.io/en/stable/user/interface.html\n",
    "* Keyboard Shortcuts: https://towardsdatascience.com/jypyter-notebook-shortcuts-bf0101a98330"
   ]
  },
  {
   "cell_type": "markdown",
   "metadata": {
    "colab_type": "text",
    "id": "eSSKcdeW0cjt"
   },
   "source": [
    "#### Useful Keyboard Shortcuts:\n",
    "\n",
    "- `a`, `b`: Create a new empty cell above/below\n",
    "- `Ctrl-Enter`: Run the current cell\n",
    "- `Shift-Enter`: Run the current cell and move to the next cell\n",
    "- `Shift-Tab`: Show documentation"
   ]
  },
  {
   "cell_type": "markdown",
   "metadata": {
    "colab_type": "text",
    "id": "EH3yvm1HM8LK"
   },
   "source": [
    "## Basics of Python"
   ]
  },
  {
   "cell_type": "markdown",
   "metadata": {
    "colab_type": "text",
    "id": "XTrB8xBfM8LL"
   },
   "source": [
    "Python is a high-level, dynamically typed multiparadigm programming language. Python code is often said to be almost like pseudocode, since it allows you to express very powerful ideas in very few lines of code while being very readable. As an example, here is an implementation of the classic quicksort algorithm in Python:"
   ]
  },
  {
   "cell_type": "code",
   "execution_count": 36,
   "metadata": {
    "colab": {
     "base_uri": "https://localhost:8080/",
     "height": 35
    },
    "colab_type": "code",
    "executionInfo": {
     "elapsed": 472,
     "status": "ok",
     "timestamp": 1579216258026,
     "user": {
      "displayName": "Sungryull Sohn",
      "photoUrl": "",
      "userId": "06647518667646069751"
     },
     "user_tz": 300
    },
    "id": "3U87bFBJ0cjv",
    "outputId": "48b0a354-b928-4fb9-e8b0-48fb7fbd7c77"
   },
   "outputs": [
    {
     "data": {
      "text/plain": [
       "[1, 1, 2, 3, 6, 8, 10]"
      ]
     },
     "execution_count": 36,
     "metadata": {
      "tags": []
     },
     "output_type": "execute_result"
    }
   ],
   "source": [
    "def quicksort(arr):\n",
    "    if len(arr) <= 1:\n",
    "        return arr\n",
    "    pivot = arr[len(arr) // 2]\n",
    "    left = [x for x in arr if x < pivot]\n",
    "    middle = [x for x in arr if x == pivot]\n",
    "    right = [x for x in arr if x > pivot]\n",
    "    return quicksort(left) + middle + quicksort(right)\n",
    "\n",
    "quicksort([3,6,8,10,1,2,1])"
   ]
  },
  {
   "cell_type": "markdown",
   "metadata": {
    "colab_type": "text",
    "id": "dXzkvSjeM8LR"
   },
   "source": [
    "### Basic data types"
   ]
  },
  {
   "cell_type": "markdown",
   "metadata": {
    "colab_type": "text",
    "id": "PJ23RwlOM8LS"
   },
   "source": [
    "#### Numbers"
   ]
  },
  {
   "cell_type": "markdown",
   "metadata": {
    "colab_type": "text",
    "id": "7YRU1VPwM8LS"
   },
   "source": [
    "Integers and floats work as you would expect from other languages:"
   ]
  },
  {
   "cell_type": "code",
   "execution_count": 37,
   "metadata": {
    "colab": {
     "base_uri": "https://localhost:8080/",
     "height": 35
    },
    "colab_type": "code",
    "executionInfo": {
     "elapsed": 498,
     "status": "ok",
     "timestamp": 1579216371466,
     "user": {
      "displayName": "Sungryull Sohn",
      "photoUrl": "",
      "userId": "06647518667646069751"
     },
     "user_tz": 300
    },
    "id": "skdrUBjTM8LT",
    "outputId": "8de65e72-59fb-43a5-a0e3-568621fd0127"
   },
   "outputs": [
    {
     "name": "stdout",
     "output_type": "stream",
     "text": [
      "3 <class 'int'>\n"
     ]
    }
   ],
   "source": [
    "x = 3\n",
    "print(x, type(x))"
   ]
  },
  {
   "cell_type": "code",
   "execution_count": 38,
   "metadata": {
    "colab": {
     "base_uri": "https://localhost:8080/",
     "height": 87
    },
    "colab_type": "code",
    "executionInfo": {
     "elapsed": 439,
     "status": "ok",
     "timestamp": 1579216415239,
     "user": {
      "displayName": "Sungryull Sohn",
      "photoUrl": "",
      "userId": "06647518667646069751"
     },
     "user_tz": 300
    },
    "id": "ICJ9-NNfM8LW",
    "outputId": "47e85b86-cd54-4075-e6c6-09bcac664ac0"
   },
   "outputs": [
    {
     "name": "stdout",
     "output_type": "stream",
     "text": [
      "4\n",
      "2\n",
      "6\n",
      "9\n"
     ]
    }
   ],
   "source": [
    "print(x + 1)   # Addition;\n",
    "print(x - 1)   # Subtraction;\n",
    "print(x * 2)   # Multiplication;\n",
    "print(x ** 2)  # Exponentiation;"
   ]
  },
  {
   "cell_type": "code",
   "execution_count": 39,
   "metadata": {
    "colab": {
     "base_uri": "https://localhost:8080/",
     "height": 52
    },
    "colab_type": "code",
    "executionInfo": {
     "elapsed": 653,
     "status": "ok",
     "timestamp": 1579216433804,
     "user": {
      "displayName": "Sungryull Sohn",
      "photoUrl": "",
      "userId": "06647518667646069751"
     },
     "user_tz": 300
    },
    "id": "sk_nsPIPM8LY",
    "outputId": "fc3a2d5b-d4aa-4bd9-ee28-9d1859bf3a01"
   },
   "outputs": [
    {
     "name": "stdout",
     "output_type": "stream",
     "text": [
      "4\n",
      "8\n"
     ]
    }
   ],
   "source": [
    "x += 1\n",
    "print(x)  # Prints \"4\"\n",
    "x *= 2\n",
    "print(x)  # Prints \"8\""
   ]
  },
  {
   "cell_type": "code",
   "execution_count": 40,
   "metadata": {
    "colab": {
     "base_uri": "https://localhost:8080/",
     "height": 52
    },
    "colab_type": "code",
    "executionInfo": {
     "elapsed": 440,
     "status": "ok",
     "timestamp": 1579216447784,
     "user": {
      "displayName": "Sungryull Sohn",
      "photoUrl": "",
      "userId": "06647518667646069751"
     },
     "user_tz": 300
    },
    "id": "J0m5_8mHM8Lb",
    "outputId": "639b6abf-b1f2-41a5-f652-b3c681cac588"
   },
   "outputs": [
    {
     "name": "stdout",
     "output_type": "stream",
     "text": [
      "<class 'float'>\n",
      "2.5 3.5 5.0 6.25\n"
     ]
    }
   ],
   "source": [
    "y = 2.5\n",
    "print(type(y)) # Prints \"<type 'float'>\"\n",
    "print(y, y + 1, y * 2, y ** 2) # Prints \"2.5 3.5 5.0 6.25\""
   ]
  },
  {
   "cell_type": "markdown",
   "metadata": {
    "colab_type": "text",
    "id": "lFtjndUXM8Le"
   },
   "source": [
    "Note that unlike many languages, Python does not have unary increment (x++) or decrement (x--) operators.\n",
    "\n",
    "Python also has built-in types for long integers and complex numbers; you can find all of the details in the [documentation](https://docs.python.org/2/library/stdtypes.html#numeric-types-int-float-long-complex)."
   ]
  },
  {
   "cell_type": "markdown",
   "metadata": {
    "colab_type": "text",
    "id": "-MHrCWl6M8Lf"
   },
   "source": [
    "#### Booleans"
   ]
  },
  {
   "cell_type": "markdown",
   "metadata": {
    "colab_type": "text",
    "id": "4iRd_tZaM8Lg"
   },
   "source": [
    "Python implements all of the usual operators for Boolean logic, but uses English words rather than symbols (`&&`, `||`, etc.):"
   ]
  },
  {
   "cell_type": "code",
   "execution_count": 13,
   "metadata": {
    "colab": {
     "base_uri": "https://localhost:8080/",
     "height": 35
    },
    "colab_type": "code",
    "executionInfo": {
     "elapsed": 301,
     "status": "ok",
     "timestamp": 1579213796033,
     "user": {
      "displayName": "Sungryull Sohn",
      "photoUrl": "",
      "userId": "06647518667646069751"
     },
     "user_tz": 300
    },
    "id": "_VJSAZm4M8Lh",
    "outputId": "fe80e5d5-b395-4bdc-80d5-6e86e7d15496"
   },
   "outputs": [
    {
     "name": "stdout",
     "output_type": "stream",
     "text": [
      "<class 'bool'>\n"
     ]
    }
   ],
   "source": [
    "t, f = True, False\n",
    "print(type(t)) # Prints \"<type 'bool'>\""
   ]
  },
  {
   "cell_type": "markdown",
   "metadata": {
    "colab_type": "text",
    "id": "yoUGAWGzM8Ll"
   },
   "source": [
    "Now we let's look at the operations:"
   ]
  },
  {
   "cell_type": "code",
   "execution_count": 14,
   "metadata": {
    "colab": {
     "base_uri": "https://localhost:8080/",
     "height": 87
    },
    "colab_type": "code",
    "executionInfo": {
     "elapsed": 331,
     "status": "ok",
     "timestamp": 1579213798795,
     "user": {
      "displayName": "Sungryull Sohn",
      "photoUrl": "",
      "userId": "06647518667646069751"
     },
     "user_tz": 300
    },
    "id": "8Fo0UsmpM8Lm",
    "outputId": "49d196d6-73fe-481d-9aff-57e68ad42d38"
   },
   "outputs": [
    {
     "name": "stdout",
     "output_type": "stream",
     "text": [
      "False\n",
      "True\n",
      "False\n",
      "True\n"
     ]
    }
   ],
   "source": [
    "print(t and f) # Logical AND;\n",
    "print(t or f)  # Logical OR;\n",
    "print(not t)   # Logical NOT;\n",
    "print(t != f)  # Logical XOR;"
   ]
  },
  {
   "cell_type": "markdown",
   "metadata": {
    "colab_type": "text",
    "id": "n1VD6DXDM8Lp"
   },
   "source": [
    "#### Strings"
   ]
  },
  {
   "cell_type": "code",
   "execution_count": 16,
   "metadata": {
    "colab": {
     "base_uri": "https://localhost:8080/",
     "height": 35
    },
    "colab_type": "code",
    "executionInfo": {
     "elapsed": 314,
     "status": "ok",
     "timestamp": 1579213817662,
     "user": {
      "displayName": "Sungryull Sohn",
      "photoUrl": "",
      "userId": "06647518667646069751"
     },
     "user_tz": 300
    },
    "id": "6qgGQ8FYM8Lq",
    "outputId": "4a993dbe-49bf-4335-e8d1-833580833529"
   },
   "outputs": [
    {
     "name": "stdout",
     "output_type": "stream",
     "text": [
      "hello 5\n"
     ]
    }
   ],
   "source": [
    "hello = 'hello'   # String literals can use single quotes\n",
    "world = \"world\"   # or double quotes; it does not matter.\n",
    "print(hello, len(hello))"
   ]
  },
  {
   "cell_type": "code",
   "execution_count": 41,
   "metadata": {
    "colab": {
     "base_uri": "https://localhost:8080/",
     "height": 35
    },
    "colab_type": "code",
    "executionInfo": {
     "elapsed": 476,
     "status": "ok",
     "timestamp": 1579216590145,
     "user": {
      "displayName": "Sungryull Sohn",
      "photoUrl": "",
      "userId": "06647518667646069751"
     },
     "user_tz": 300
    },
    "id": "XtOXj2ReM8Ls",
    "outputId": "f7edc3f8-6ea8-4c70-bb5b-fee0939c1134"
   },
   "outputs": [
    {
     "name": "stdout",
     "output_type": "stream",
     "text": [
      "hello world\n"
     ]
    }
   ],
   "source": [
    "hw = hello + ' ' + world  # String concatenation\n",
    "print (hw)  # prints \"hello world\""
   ]
  },
  {
   "cell_type": "code",
   "execution_count": 42,
   "metadata": {
    "colab": {
     "base_uri": "https://localhost:8080/",
     "height": 35
    },
    "colab_type": "code",
    "executionInfo": {
     "elapsed": 513,
     "status": "ok",
     "timestamp": 1579216637970,
     "user": {
      "displayName": "Sungryull Sohn",
      "photoUrl": "",
      "userId": "06647518667646069751"
     },
     "user_tz": 300
    },
    "id": "AXzUgQqZM8Lu",
    "outputId": "a614fb04-5fba-4e9e-a69a-6c08bc17236d"
   },
   "outputs": [
    {
     "name": "stdout",
     "output_type": "stream",
     "text": [
      "hello world 12\n"
     ]
    }
   ],
   "source": [
    "hw12 = '%s %s %d' % (hello, world, 12)  # sprintf style string formatting\n",
    "print (hw12)  # prints \"hello world 12\""
   ]
  },
  {
   "cell_type": "markdown",
   "metadata": {
    "colab_type": "text",
    "id": "TgvUk0INM8Lw"
   },
   "source": [
    "String objects have a bunch of useful methods; for example:"
   ]
  },
  {
   "cell_type": "code",
   "execution_count": 43,
   "metadata": {
    "colab": {
     "base_uri": "https://localhost:8080/",
     "height": 140
    },
    "colab_type": "code",
    "executionInfo": {
     "elapsed": 474,
     "status": "ok",
     "timestamp": 1579216698354,
     "user": {
      "displayName": "Sungryull Sohn",
      "photoUrl": "",
      "userId": "06647518667646069751"
     },
     "user_tz": 300
    },
    "id": "U3tORW6nM8Lw",
    "outputId": "8e801510-fdde-4218-8033-f9db0fc250e6"
   },
   "outputs": [
    {
     "name": "stdout",
     "output_type": "stream",
     "text": [
      "Hello\n",
      "HELLO\n",
      "  hello\n",
      " hello \n",
      "he(ell)(ell)o\n",
      "world\n",
      "True True\n"
     ]
    }
   ],
   "source": [
    "s = \"hello\"\n",
    "print (s.capitalize())  # Capitalize a string; prints \"Hello\"\n",
    "print (s.upper())       # Convert a string to uppercase; prints \"HELLO\"\n",
    "print (s.rjust(7))      # Right-justify a string, padding with spaces; prints \"  hello\"\n",
    "print (s.center(7))     # Center a string, padding with spaces; prints \" hello \"\n",
    "print (s.replace('l', '(ell)'))  # Replace all instances of one substring with another;\n",
    "                                 # prints \"he(ell)(ell)o\"\n",
    "print ('  world '.strip())  # Strip leading and trailing whitespace; prints \"world\"\n",
    "\n",
    "print (s.startswith('h'), s.endswith('lo'))   # True, True"
   ]
  },
  {
   "cell_type": "markdown",
   "metadata": {
    "colab_type": "text",
    "id": "mAYYJSrhM8Ly"
   },
   "source": [
    "You can find a list of all string methods in the [documentation](https://docs.python.org/2/library/stdtypes.html#string-methods)."
   ]
  },
  {
   "cell_type": "markdown",
   "metadata": {
    "colab_type": "text",
    "id": "BC52wgGU0ckQ"
   },
   "source": [
    "#### String Formatting"
   ]
  },
  {
   "cell_type": "markdown",
   "metadata": {
    "colab_type": "text",
    "id": "d4NpgMat0ckR"
   },
   "source": [
    "There are mainly 3 ways to do string formatting:\n",
    "\n",
    "* (0) ~... + str(i) + ...~\n",
    "* (1) `%` operator\n",
    "* (2) `.format()`\n",
    "* (3) f-string  (Python 3.6+)"
   ]
  },
  {
   "cell_type": "code",
   "execution_count": 44,
   "metadata": {
    "colab": {
     "base_uri": "https://localhost:8080/",
     "height": 35
    },
    "colab_type": "code",
    "executionInfo": {
     "elapsed": 482,
     "status": "ok",
     "timestamp": 1579216797531,
     "user": {
      "displayName": "Sungryull Sohn",
      "photoUrl": "",
      "userId": "06647518667646069751"
     },
     "user_tz": 300
    },
    "id": "T0BxRl0U0ckR",
    "outputId": "55912402-b965-4d63-eb4a-a2abd5998cfb"
   },
   "outputs": [
    {
     "data": {
      "text/plain": [
       "'0.3 svm 100'"
      ]
     },
     "execution_count": 44,
     "metadata": {
      "tags": []
     },
     "output_type": "execute_result"
    }
   ],
   "source": [
    "# (1) % operator\n",
    "alpha = 0.3\n",
    "classifier = 'svm'\n",
    "seed = 100\n",
    "\n",
    "\"%s %s %s\" % (alpha, classifier, seed)"
   ]
  },
  {
   "cell_type": "code",
   "execution_count": 45,
   "metadata": {
    "colab": {
     "base_uri": "https://localhost:8080/",
     "height": 158
    },
    "colab_type": "code",
    "executionInfo": {
     "elapsed": 543,
     "status": "ok",
     "timestamp": 1579216853271,
     "user": {
      "displayName": "Sungryull Sohn",
      "photoUrl": "",
      "userId": "06647518667646069751"
     },
     "user_tz": 300
    },
    "id": "GvqfjmSS0ckT",
    "outputId": "801b04d7-9d29-4163-fea8-12b16a84151b"
   },
   "outputs": [
    {
     "name": "stdout",
     "output_type": "stream",
     "text": [
      "0.3\n",
      "0.3\n",
      "      0.3\n",
      "000.30000\n",
      "--------------\n",
      "3000000000.000000\n",
      "3.000000e+09\n",
      "3e+09\n"
     ]
    }
   ],
   "source": [
    "print(alpha)\n",
    "print(\"%.1f\" % alpha)\n",
    "print(\"%9.1f\" % alpha)\n",
    "print(\"%09.5f\" % alpha)\n",
    "print('--------------')\n",
    "print(\"%f\" % (alpha*1e10))  # floating\n",
    "print(\"%e\" % (alpha*1e10))  # scientific\n",
    "print(\"%g\" % (alpha*1e10))  # compact"
   ]
  },
  {
   "cell_type": "code",
   "execution_count": 46,
   "metadata": {
    "colab": {
     "base_uri": "https://localhost:8080/",
     "height": 87
    },
    "colab_type": "code",
    "executionInfo": {
     "elapsed": 507,
     "status": "ok",
     "timestamp": 1579216915610,
     "user": {
      "displayName": "Sungryull Sohn",
      "photoUrl": "",
      "userId": "06647518667646069751"
     },
     "user_tz": 300
    },
    "id": "jLh0Y5t70ckV",
    "outputId": "eb36a88f-eaad-417d-e71a-4980ce7739c8"
   },
   "outputs": [
    {
     "name": "stdout",
     "output_type": "stream",
     "text": [
      "0.3, svm, 100\n",
      "svm, 100, 0.3\n",
      "alpha = 0.300\n",
      "alpha=0.3, classifier=svm, seed=100\n"
     ]
    }
   ],
   "source": [
    "# .format()\n",
    "# {'index' : 'format' }\n",
    "print( \"{}, {}, {}\".format(alpha, classifier, seed) )\n",
    "print( \"{1}, {2}, {0}\".format(alpha, classifier, seed) )  # only 'index'\n",
    "print( \"alpha = {:.3f}\".format(alpha) )  # only 'format'\n",
    "\n",
    "print(\"alpha={alpha}, classifier={classifier}, seed={seed}\".format(\n",
    "    alpha=alpha, classifier=classifier, seed=seed))"
   ]
  },
  {
   "cell_type": "code",
   "execution_count": 0,
   "metadata": {
    "colab": {},
    "colab_type": "code",
    "id": "OVikzKN60ckX"
   },
   "outputs": [],
   "source": [
    "# f-string\n",
    "f'alpha^2 = {alpha ** 2}, classifier={classifier}, seed={seed}'"
   ]
  },
  {
   "cell_type": "code",
   "execution_count": 0,
   "metadata": {
    "colab": {},
    "colab_type": "code",
    "id": "5j0uNEdU0cka"
   },
   "outputs": [],
   "source": [
    "job = 'myjob_%f_%s_%s' % (alpha, classifier, seed)\n",
    "job"
   ]
  },
  {
   "cell_type": "markdown",
   "metadata": {
    "colab_type": "text",
    "id": "QBRlf-mfM8Lz"
   },
   "source": [
    "### Containers"
   ]
  },
  {
   "cell_type": "markdown",
   "metadata": {
    "colab_type": "text",
    "id": "PTQ7REdNM8Lz"
   },
   "source": [
    "Python includes several built-in container types: lists, dictionaries, sets, and tuples."
   ]
  },
  {
   "cell_type": "markdown",
   "metadata": {
    "colab_type": "text",
    "id": "o8G26F7ZM8L0"
   },
   "source": [
    "#### Lists"
   ]
  },
  {
   "cell_type": "markdown",
   "metadata": {
    "colab_type": "text",
    "id": "yMjM-sVwM8L0"
   },
   "source": [
    "A list is the Python equivalent of an array, but is resizeable and can contain elements of different types:"
   ]
  },
  {
   "cell_type": "code",
   "execution_count": 47,
   "metadata": {
    "colab": {
     "base_uri": "https://localhost:8080/",
     "height": 52
    },
    "colab_type": "code",
    "executionInfo": {
     "elapsed": 472,
     "status": "ok",
     "timestamp": 1579217056809,
     "user": {
      "displayName": "Sungryull Sohn",
      "photoUrl": "",
      "userId": "06647518667646069751"
     },
     "user_tz": 300
    },
    "id": "asnwy1q0M8L1",
    "outputId": "06f6db2e-89d8-48c0-bbfc-6dbb16653f52"
   },
   "outputs": [
    {
     "name": "stdout",
     "output_type": "stream",
     "text": [
      "[3, 1, 2] 2\n",
      "2\n"
     ]
    }
   ],
   "source": [
    "# Syntax: use bracket. [value, value, ...]\n",
    "xs = [3, 1, 2]   # Create a list \n",
    "print (xs, xs[2])\n",
    "print (xs[-1])     # Negative indices count from the end of the list; prints \"2\""
   ]
  },
  {
   "cell_type": "code",
   "execution_count": 48,
   "metadata": {
    "colab": {
     "base_uri": "https://localhost:8080/",
     "height": 35
    },
    "colab_type": "code",
    "executionInfo": {
     "elapsed": 417,
     "status": "ok",
     "timestamp": 1579217113553,
     "user": {
      "displayName": "Sungryull Sohn",
      "photoUrl": "",
      "userId": "06647518667646069751"
     },
     "user_tz": 300
    },
    "id": "7lIfzuHrM8L7",
    "outputId": "3f7fc610-7128-4bb8-92d6-f56dbad04f77"
   },
   "outputs": [
    {
     "name": "stdout",
     "output_type": "stream",
     "text": [
      "[3, 1, 'foo']\n"
     ]
    }
   ],
   "source": [
    "xs[2] = 'foo'    # Lists can contain elements of different types\n",
    "print (xs)"
   ]
  },
  {
   "cell_type": "code",
   "execution_count": 49,
   "metadata": {
    "colab": {
     "base_uri": "https://localhost:8080/",
     "height": 35
    },
    "colab_type": "code",
    "executionInfo": {
     "elapsed": 443,
     "status": "ok",
     "timestamp": 1579217134659,
     "user": {
      "displayName": "Sungryull Sohn",
      "photoUrl": "",
      "userId": "06647518667646069751"
     },
     "user_tz": 300
    },
    "id": "K1nW0iL1M8L9",
    "outputId": "f08c2385-0eca-406e-a5b7-dc22931e11d5"
   },
   "outputs": [
    {
     "name": "stdout",
     "output_type": "stream",
     "text": [
      "[3, 1, 'foo', 'bar']\n"
     ]
    }
   ],
   "source": [
    "xs.append('bar') # Add a new element to the end of the list\n",
    "print (xs)  "
   ]
  },
  {
   "cell_type": "code",
   "execution_count": 50,
   "metadata": {
    "colab": {
     "base_uri": "https://localhost:8080/",
     "height": 35
    },
    "colab_type": "code",
    "executionInfo": {
     "elapsed": 687,
     "status": "ok",
     "timestamp": 1579217158223,
     "user": {
      "displayName": "Sungryull Sohn",
      "photoUrl": "",
      "userId": "06647518667646069751"
     },
     "user_tz": 300
    },
    "id": "lJTUKZ4ZM8MB",
    "outputId": "8f2dd707-71e1-4474-eb48-0f9b54d5c2ae"
   },
   "outputs": [
    {
     "name": "stdout",
     "output_type": "stream",
     "text": [
      "bar [3, 1, 'foo']\n"
     ]
    }
   ],
   "source": [
    "x = xs.pop()     # Remove and return the last element of the list\n",
    "print (x, xs) "
   ]
  },
  {
   "cell_type": "code",
   "execution_count": 51,
   "metadata": {
    "colab": {
     "base_uri": "https://localhost:8080/",
     "height": 35
    },
    "colab_type": "code",
    "executionInfo": {
     "elapsed": 407,
     "status": "ok",
     "timestamp": 1579217167672,
     "user": {
      "displayName": "Sungryull Sohn",
      "photoUrl": "",
      "userId": "06647518667646069751"
     },
     "user_tz": 300
    },
    "id": "kT2v_P0c0ckn",
    "outputId": "3c2fcf7e-c171-496b-b07c-604d759f91ca"
   },
   "outputs": [
    {
     "data": {
      "text/plain": [
       "3"
      ]
     },
     "execution_count": 51,
     "metadata": {
      "tags": []
     },
     "output_type": "execute_result"
    }
   ],
   "source": [
    "len(xs)          # Get length"
   ]
  },
  {
   "cell_type": "markdown",
   "metadata": {
    "colab_type": "text",
    "id": "nf_2y5bkM8MD"
   },
   "source": [
    "As usual, you can find all the gory details about lists in the [documentation](https://docs.python.org/2/tutorial/datastructures.html#more-on-lists)."
   ]
  },
  {
   "cell_type": "markdown",
   "metadata": {
    "colab_type": "text",
    "id": "C-YjJInGM8ME"
   },
   "source": [
    "#### Slicing"
   ]
  },
  {
   "cell_type": "markdown",
   "metadata": {
    "colab_type": "text",
    "id": "RWW8GdvGM8ME"
   },
   "source": [
    "In addition to accessing list elements one at a time, Python provides concise syntax to access sublists; this is known as slicing:"
   ]
  },
  {
   "cell_type": "code",
   "execution_count": 52,
   "metadata": {
    "colab": {
     "base_uri": "https://localhost:8080/",
     "height": 158
    },
    "colab_type": "code",
    "executionInfo": {
     "elapsed": 422,
     "status": "ok",
     "timestamp": 1579217213018,
     "user": {
      "displayName": "Sungryull Sohn",
      "photoUrl": "",
      "userId": "06647518667646069751"
     },
     "user_tz": 300
    },
    "id": "SS9CNvKZM8MF",
    "outputId": "ebb1c92a-37e4-47d2-8552-63643ad63a12"
   },
   "outputs": [
    {
     "name": "stdout",
     "output_type": "stream",
     "text": [
      "(1) [0, 1, 2, 3, 4]\n",
      "(2) [2, 3]\n",
      "(3) [2, 3, 4]\n",
      "(4) [0, 1]\n",
      "(5) [0, 1, 2, 3, 4]\n",
      "(6) [0, 1, 2, 3]\n",
      "(7) [0, 1, 8, 9, 4]\n",
      "(8) [4, 9, 8, 1, 0]\n"
     ]
    }
   ],
   "source": [
    "# range is a built-in function that creates a `generator` of integers (Python 3). In python 2, was returning a list.\n",
    "nums = list(range(5))\n",
    "\n",
    "# Syntax: use bracket. [start:end:step]\n",
    "print (\"(1)\", nums)         # Prints \"[0, 1, 2, 3, 4]\"\n",
    "print (\"(2)\",  nums[2:4])    # Get a slice from index 2 to 4 (exclusive); prints \"[2, 3]\"\n",
    "print (\"(3)\", nums[2:])     # Get a slice from index 2 to the end; prints \"[2, 3, 4]\"\n",
    "print (\"(4)\", nums[:2])     # Get a slice from the start to index 2 (exclusive); prints \"[0, 1]\"\n",
    "print (\"(5)\", nums[:])      # Get a slice of the whole list; prints [\"0, 1, 2, 3, 4]\"\n",
    "print (\"(6)\", nums[:-1])    # Slice indices can be negative; prints [\"0, 1, 2, 3]\"\n",
    "nums[2:4] = [8, 9] # Assign a new sublist to a slice\n",
    "print (\"(7)\", nums)         # Prints \"[0, 1, 8, 9, 4]\"\n",
    "print (\"(8)\", nums[::-1])   # Reverts a list"
   ]
  },
  {
   "cell_type": "markdown",
   "metadata": {
    "colab_type": "text",
    "id": "8G-8ILjeM8MG"
   },
   "source": [
    "#### Loops"
   ]
  },
  {
   "cell_type": "markdown",
   "metadata": {
    "colab_type": "text",
    "id": "BFHgT8pNM8MH"
   },
   "source": [
    "You can loop over the elements of a list like this:"
   ]
  },
  {
   "cell_type": "code",
   "execution_count": 53,
   "metadata": {
    "colab": {
     "base_uri": "https://localhost:8080/",
     "height": 70
    },
    "colab_type": "code",
    "executionInfo": {
     "elapsed": 365,
     "status": "ok",
     "timestamp": 1579217422633,
     "user": {
      "displayName": "Sungryull Sohn",
      "photoUrl": "",
      "userId": "06647518667646069751"
     },
     "user_tz": 300
    },
    "id": "Q5H_NYf1M8MI",
    "outputId": "1e06c44b-1472-4a7e-8760-9abddbf289cc"
   },
   "outputs": [
    {
     "name": "stdout",
     "output_type": "stream",
     "text": [
      "cat\n",
      "dog\n",
      "monkey\n"
     ]
    }
   ],
   "source": [
    "animals = ['cat', 'dog', 'monkey']\n",
    "for animal in animals:\n",
    "    print (animal)"
   ]
  },
  {
   "cell_type": "markdown",
   "metadata": {
    "colab_type": "text",
    "id": "3spa_cW8M8MJ"
   },
   "source": [
    "If you want access to the index of each element within the body of a loop, use the built-in `enumerate` function:"
   ]
  },
  {
   "cell_type": "code",
   "execution_count": 54,
   "metadata": {
    "colab": {
     "base_uri": "https://localhost:8080/",
     "height": 70
    },
    "colab_type": "code",
    "executionInfo": {
     "elapsed": 422,
     "status": "ok",
     "timestamp": 1579217453243,
     "user": {
      "displayName": "Sungryull Sohn",
      "photoUrl": "",
      "userId": "06647518667646069751"
     },
     "user_tz": 300
    },
    "id": "e1UC6ekjM8MK",
    "outputId": "fb730f1d-e2f0-4502-a947-42a67808c019"
   },
   "outputs": [
    {
     "name": "stdout",
     "output_type": "stream",
     "text": [
      "#1: cat\n",
      "#2: dog\n",
      "#3: monkey\n"
     ]
    }
   ],
   "source": [
    "animals = ['cat', 'dog', 'monkey']\n",
    "for idx, animal in enumerate(animals):\n",
    "    print ('#%d: %s' % (idx + 1, animal))"
   ]
  },
  {
   "cell_type": "markdown",
   "metadata": {
    "colab_type": "text",
    "id": "OA-Fm61r0cky"
   },
   "source": [
    "`zip()` makes an iterator that aggregates elements from each of the iterables."
   ]
  },
  {
   "cell_type": "code",
   "execution_count": 55,
   "metadata": {
    "colab": {
     "base_uri": "https://localhost:8080/",
     "height": 87
    },
    "colab_type": "code",
    "executionInfo": {
     "elapsed": 555,
     "status": "ok",
     "timestamp": 1579217501707,
     "user": {
      "displayName": "Sungryull Sohn",
      "photoUrl": "",
      "userId": "06647518667646069751"
     },
     "user_tz": 300
    },
    "id": "87SyaAL70cky",
    "outputId": "006665c0-0d9a-479e-8305-cc4379e5b0e6"
   },
   "outputs": [
    {
     "name": "stdout",
     "output_type": "stream",
     "text": [
      "1 5 9\n",
      "2 6 10\n",
      "3 7 11\n",
      "4 8 12\n"
     ]
    }
   ],
   "source": [
    "x = [1, 2, 3, 4]\n",
    "y = [5, 6, 7, 8]\n",
    "z = [9, 10, 11, 12]\n",
    "\n",
    "for i, j, k in zip(x, y, z):\n",
    "    print(i, j, k)"
   ]
  },
  {
   "cell_type": "markdown",
   "metadata": {
    "colab_type": "text",
    "id": "YuBvxIaQM8ML"
   },
   "source": [
    "#### List comprehensions:"
   ]
  },
  {
   "cell_type": "markdown",
   "metadata": {
    "colab_type": "text",
    "id": "f-dyjSVjM8MM"
   },
   "source": [
    "When programming, frequently we want to transform one type of data into another. As a simple example, consider the following code that computes square numbers:"
   ]
  },
  {
   "cell_type": "code",
   "execution_count": 56,
   "metadata": {
    "colab": {
     "base_uri": "https://localhost:8080/",
     "height": 35
    },
    "colab_type": "code",
    "executionInfo": {
     "elapsed": 374,
     "status": "ok",
     "timestamp": 1579217540082,
     "user": {
      "displayName": "Sungryull Sohn",
      "photoUrl": "",
      "userId": "06647518667646069751"
     },
     "user_tz": 300
    },
    "id": "BjVUlkrGM8MN",
    "outputId": "fcbf767f-aa5b-48ca-a447-c346d6c90217"
   },
   "outputs": [
    {
     "name": "stdout",
     "output_type": "stream",
     "text": [
      "[0, 1, 4, 9, 16]\n"
     ]
    }
   ],
   "source": [
    "nums = [0, 1, 2, 3, 4]\n",
    "squares = []\n",
    "for x in nums:\n",
    "    squares.append(x ** 2)\n",
    "print (squares)"
   ]
  },
  {
   "cell_type": "markdown",
   "metadata": {
    "colab_type": "text",
    "id": "ICtxYR5EM8MP"
   },
   "source": [
    "You can make this code simpler using a list comprehension:"
   ]
  },
  {
   "cell_type": "code",
   "execution_count": 57,
   "metadata": {
    "colab": {
     "base_uri": "https://localhost:8080/",
     "height": 35
    },
    "colab_type": "code",
    "executionInfo": {
     "elapsed": 429,
     "status": "ok",
     "timestamp": 1579217599573,
     "user": {
      "displayName": "Sungryull Sohn",
      "photoUrl": "",
      "userId": "06647518667646069751"
     },
     "user_tz": 300
    },
    "id": "8vTUq-vMM8MP",
    "outputId": "8a259365-4c30-4b6e-e38c-bea6e42343f5"
   },
   "outputs": [
    {
     "name": "stdout",
     "output_type": "stream",
     "text": [
      "[0, 1, 4, 9, 16]\n"
     ]
    }
   ],
   "source": [
    "nums = [0, 1, 2, 3, 4]\n",
    "squares = [x ** 2 for x in nums]  # simpler & faster!\n",
    "print (squares)"
   ]
  },
  {
   "cell_type": "markdown",
   "metadata": {
    "colab_type": "text",
    "id": "rOKAaQjEM8MS"
   },
   "source": [
    "List comprehensions can also contain conditions:"
   ]
  },
  {
   "cell_type": "code",
   "execution_count": 21,
   "metadata": {
    "colab": {
     "base_uri": "https://localhost:8080/",
     "height": 35
    },
    "colab_type": "code",
    "executionInfo": {
     "elapsed": 345,
     "status": "ok",
     "timestamp": 1579214344901,
     "user": {
      "displayName": "Sungryull Sohn",
      "photoUrl": "",
      "userId": "06647518667646069751"
     },
     "user_tz": 300
    },
    "id": "Uc8fdwLQM8MS",
    "outputId": "83d30434-e3a9-4c2d-c0be-054fcc04b100"
   },
   "outputs": [
    {
     "name": "stdout",
     "output_type": "stream",
     "text": [
      "[0, 4, 16]\n"
     ]
    }
   ],
   "source": [
    "nums = [0, 1, 2, 3, 4]\n",
    "even_squares = [x ** 2 for x in nums if x % 2 == 0]\n",
    "print (even_squares)"
   ]
  },
  {
   "cell_type": "markdown",
   "metadata": {
    "colab_type": "text",
    "id": "gGzhREWvM8My"
   },
   "source": [
    "#### Tuples"
   ]
  },
  {
   "cell_type": "markdown",
   "metadata": {
    "colab_type": "text",
    "id": "HVUHlVbpM8Mz"
   },
   "source": [
    "A tuple is an (immutable) ordered list of values. A tuple is in many ways similar to a list; but tuple is safer and can be used with dictionary (will be covered later)."
   ]
  },
  {
   "cell_type": "code",
   "execution_count": 58,
   "metadata": {
    "colab": {
     "base_uri": "https://localhost:8080/",
     "height": 52
    },
    "colab_type": "code",
    "executionInfo": {
     "elapsed": 679,
     "status": "ok",
     "timestamp": 1579217708623,
     "user": {
      "displayName": "Sungryull Sohn",
      "photoUrl": "",
      "userId": "06647518667646069751"
     },
     "user_tz": 300
    },
    "id": "xVBN7TkLM8Mz",
    "outputId": "fd25cc83-8470-48af-f398-5918afa5184c"
   },
   "outputs": [
    {
     "name": "stdout",
     "output_type": "stream",
     "text": [
      "(5, 6)\n",
      "<class 'tuple'>\n"
     ]
    }
   ],
   "source": [
    "# Syntax: use parantheses. (value, value, ...)\n",
    "t = (5, 6)       # Create a tuple\n",
    "print (t)\n",
    "print (type(t))\n"
   ]
  },
  {
   "cell_type": "code",
   "execution_count": 59,
   "metadata": {
    "colab": {
     "base_uri": "https://localhost:8080/",
     "height": 167
    },
    "colab_type": "code",
    "executionInfo": {
     "elapsed": 445,
     "status": "error",
     "timestamp": 1579217722344,
     "user": {
      "displayName": "Sungryull Sohn",
      "photoUrl": "",
      "userId": "06647518667646069751"
     },
     "user_tz": 300
    },
    "id": "1thXmMhsM8M2",
    "outputId": "8b5b8058-7881-4f43-b179-475290a3963d"
   },
   "outputs": [
    {
     "ename": "TypeError",
     "evalue": "ignored",
     "output_type": "error",
     "traceback": [
      "\u001b[0;31m---------------------------------------------------------------------------\u001b[0m",
      "\u001b[0;31mTypeError\u001b[0m                                 Traceback (most recent call last)",
      "\u001b[0;32m<ipython-input-59-338c99caaed9>\u001b[0m in \u001b[0;36m<module>\u001b[0;34m()\u001b[0m\n\u001b[0;32m----> 1\u001b[0;31m \u001b[0mt\u001b[0m\u001b[0;34m[\u001b[0m\u001b[0;36m0\u001b[0m\u001b[0;34m]\u001b[0m \u001b[0;34m=\u001b[0m \u001b[0;36m1\u001b[0m  \u001b[0;31m# Error! you cannot change tuple\u001b[0m\u001b[0;34m\u001b[0m\u001b[0;34m\u001b[0m\u001b[0m\n\u001b[0m",
      "\u001b[0;31mTypeError\u001b[0m: 'tuple' object does not support item assignment"
     ]
    }
   ],
   "source": [
    "t[0] = 1  # Error! you cannot change tuple"
   ]
  },
  {
   "cell_type": "markdown",
   "metadata": {
    "colab_type": "text",
    "id": "v50uFu8tM8MV"
   },
   "source": [
    "#### Dictionaries"
   ]
  },
  {
   "cell_type": "markdown",
   "metadata": {
    "colab_type": "text",
    "id": "7FSeOKxRM8MV"
   },
   "source": [
    "A dictionary stores (key, value) pairs, similar to a `Map` in Java or an object in Javascript. You can use it like this:"
   ]
  },
  {
   "cell_type": "code",
   "execution_count": 60,
   "metadata": {
    "colab": {
     "base_uri": "https://localhost:8080/",
     "height": 52
    },
    "colab_type": "code",
    "executionInfo": {
     "elapsed": 582,
     "status": "ok",
     "timestamp": 1579217781686,
     "user": {
      "displayName": "Sungryull Sohn",
      "photoUrl": "",
      "userId": "06647518667646069751"
     },
     "user_tz": 300
    },
    "id": "N9-zT0nNM8MV",
    "outputId": "1a012053-2be5-4e4e-bf35-f81fb22bb645"
   },
   "outputs": [
    {
     "name": "stdout",
     "output_type": "stream",
     "text": [
      "cute\n",
      "True\n"
     ]
    }
   ],
   "source": [
    "# Syntax: use braces. {key:value, key:value, ...}\n",
    "d = {'cat': 'cute', 'dog': 'furry'}  # Create a new dictionary with some data\n",
    "print(d['cat'])       # Get an entry from a dictionary; prints \"cute\"\n",
    "print('cat' in d)     # Check if a dictionary has a given key; prints \"True\""
   ]
  },
  {
   "cell_type": "code",
   "execution_count": 23,
   "metadata": {
    "colab": {
     "base_uri": "https://localhost:8080/",
     "height": 35
    },
    "colab_type": "code",
    "executionInfo": {
     "elapsed": 676,
     "status": "ok",
     "timestamp": 1579214523966,
     "user": {
      "displayName": "Sungryull Sohn",
      "photoUrl": "",
      "userId": "06647518667646069751"
     },
     "user_tz": 300
    },
    "id": "7YRrNWbB0clK",
    "outputId": "97bccea9-f716-4b5c-a86c-43f56d41357e"
   },
   "outputs": [
    {
     "name": "stdout",
     "output_type": "stream",
     "text": [
      "{'cat': 'cute', 'dog': 'furry'}\n"
     ]
    }
   ],
   "source": [
    "d = dict(\n",
    "    cat='cute',\n",
    "    dog='furry',\n",
    ")\n",
    "print(d)"
   ]
  },
  {
   "cell_type": "code",
   "execution_count": 61,
   "metadata": {
    "colab": {
     "base_uri": "https://localhost:8080/",
     "height": 35
    },
    "colab_type": "code",
    "executionInfo": {
     "elapsed": 395,
     "status": "ok",
     "timestamp": 1579217842749,
     "user": {
      "displayName": "Sungryull Sohn",
      "photoUrl": "",
      "userId": "06647518667646069751"
     },
     "user_tz": 300
    },
    "id": "q0HpJg56M8MX",
    "outputId": "99682a63-dfa9-4a5e-9787-0a454b4c2501"
   },
   "outputs": [
    {
     "name": "stdout",
     "output_type": "stream",
     "text": [
      "wet\n"
     ]
    }
   ],
   "source": [
    "d['fish'] = 'wet'      # Set an entry in a dictionary\n",
    "print (d['fish'])      # Prints \"wet\""
   ]
  },
  {
   "cell_type": "markdown",
   "metadata": {
    "colab_type": "text",
    "id": "svgwncA4hkVQ"
   },
   "source": [
    "One caveat: what if the key doesn't exist?"
   ]
  },
  {
   "cell_type": "code",
   "execution_count": 62,
   "metadata": {
    "colab": {
     "base_uri": "https://localhost:8080/",
     "height": 167
    },
    "colab_type": "code",
    "executionInfo": {
     "elapsed": 370,
     "status": "error",
     "timestamp": 1579217854691,
     "user": {
      "displayName": "Sungryull Sohn",
      "photoUrl": "",
      "userId": "06647518667646069751"
     },
     "user_tz": 300
    },
    "id": "Bilak9gnM8MZ",
    "outputId": "3c870f72-5d1e-47d0-9362-7df2e6c7dd5d"
   },
   "outputs": [
    {
     "ename": "KeyError",
     "evalue": "ignored",
     "output_type": "error",
     "traceback": [
      "\u001b[0;31m---------------------------------------------------------------------------\u001b[0m",
      "\u001b[0;31mKeyError\u001b[0m                                  Traceback (most recent call last)",
      "\u001b[0;32m<ipython-input-62-2de793f9c766>\u001b[0m in \u001b[0;36m<module>\u001b[0;34m()\u001b[0m\n\u001b[0;32m----> 1\u001b[0;31m \u001b[0mprint\u001b[0m \u001b[0;34m(\u001b[0m\u001b[0md\u001b[0m\u001b[0;34m[\u001b[0m\u001b[0;34m'monkey'\u001b[0m\u001b[0;34m]\u001b[0m\u001b[0;34m)\u001b[0m  \u001b[0;31m# KeyError: 'monkey' not a key of d\u001b[0m\u001b[0;34m\u001b[0m\u001b[0;34m\u001b[0m\u001b[0m\n\u001b[0m",
      "\u001b[0;31mKeyError\u001b[0m: 'monkey'"
     ]
    }
   ],
   "source": [
    "print (d['monkey'])  # KeyError: 'monkey' not a key of d"
   ]
  },
  {
   "cell_type": "markdown",
   "metadata": {
    "colab_type": "text",
    "id": "2gXYgRpm0clO"
   },
   "source": [
    "It is very useful to use `.get()` method:"
   ]
  },
  {
   "cell_type": "code",
   "execution_count": 63,
   "metadata": {
    "colab": {
     "base_uri": "https://localhost:8080/",
     "height": 70
    },
    "colab_type": "code",
    "executionInfo": {
     "elapsed": 679,
     "status": "ok",
     "timestamp": 1579217878726,
     "user": {
      "displayName": "Sungryull Sohn",
      "photoUrl": "",
      "userId": "06647518667646069751"
     },
     "user_tz": 300
    },
    "id": "Bi7R99mzM8Mb",
    "outputId": "72920109-e538-4db8-a7a0-fea2dcf925ec"
   },
   "outputs": [
    {
     "name": "stdout",
     "output_type": "stream",
     "text": [
      "None\n",
      "N/A\n",
      "wet\n"
     ]
    }
   ],
   "source": [
    "print (d.get('monkey'))\n",
    "print (d.get('monkey', 'N/A'))  # Get an element with a default; prints \"N/A\"\n",
    "print (d.get('fish', 'N/A'))    # Get an element with a default; prints \"wet\""
   ]
  },
  {
   "cell_type": "code",
   "execution_count": 64,
   "metadata": {
    "colab": {
     "base_uri": "https://localhost:8080/",
     "height": 35
    },
    "colab_type": "code",
    "executionInfo": {
     "elapsed": 421,
     "status": "ok",
     "timestamp": 1579217907043,
     "user": {
      "displayName": "Sungryull Sohn",
      "photoUrl": "",
      "userId": "06647518667646069751"
     },
     "user_tz": 300
    },
    "id": "f94d2BwiM8Mc",
    "outputId": "ed5766d2-db06-45f9-b22f-1d56dedc8728"
   },
   "outputs": [
    {
     "name": "stdout",
     "output_type": "stream",
     "text": [
      "N/A\n"
     ]
    }
   ],
   "source": [
    "del d['fish']        # Remove an element from a dictionary\n",
    "print (d.get('fish', 'N/A')) # \"fish\" is no longer a key; prints \"N/A\""
   ]
  },
  {
   "cell_type": "markdown",
   "metadata": {
    "colab_type": "text",
    "id": "ST4TFXWpM8Me"
   },
   "source": [
    "You can find all you need to know about dictionaries in the [documentation](https://docs.python.org/2/library/stdtypes.html#dict)."
   ]
  },
  {
   "cell_type": "markdown",
   "metadata": {
    "colab_type": "text",
    "id": "QRypuWJSM8Mf"
   },
   "source": [
    "It is easy to iterate over the keys in a dictionary:"
   ]
  },
  {
   "cell_type": "code",
   "execution_count": 65,
   "metadata": {
    "colab": {
     "base_uri": "https://localhost:8080/",
     "height": 70
    },
    "colab_type": "code",
    "executionInfo": {
     "elapsed": 387,
     "status": "ok",
     "timestamp": 1579217943307,
     "user": {
      "displayName": "Sungryull Sohn",
      "photoUrl": "",
      "userId": "06647518667646069751"
     },
     "user_tz": 300
    },
    "id": "M-bIqQ7tM8Mf",
    "outputId": "48fbd099-b30c-49cc-bbcf-6ead7ff6dccb"
   },
   "outputs": [
    {
     "name": "stdout",
     "output_type": "stream",
     "text": [
      "A person has 2 legs\n",
      "A cat has 4 legs\n",
      "A spider has 8 legs\n"
     ]
    }
   ],
   "source": [
    "d = {'person': 2, 'cat': 4, 'spider': 8}\n",
    "for animal in d:\n",
    "    legs = d[animal]\n",
    "    print ('A %s has %d legs' % (animal, legs))"
   ]
  },
  {
   "cell_type": "markdown",
   "metadata": {
    "colab_type": "text",
    "id": "aowBMfjvM8Mh"
   },
   "source": [
    "If you want access to keys and their corresponding values, use the `items` method:"
   ]
  },
  {
   "cell_type": "code",
   "execution_count": 66,
   "metadata": {
    "colab": {
     "base_uri": "https://localhost:8080/",
     "height": 70
    },
    "colab_type": "code",
    "executionInfo": {
     "elapsed": 415,
     "status": "ok",
     "timestamp": 1579217968274,
     "user": {
      "displayName": "Sungryull Sohn",
      "photoUrl": "",
      "userId": "06647518667646069751"
     },
     "user_tz": 300
    },
    "id": "-7sLNONPM8Mh",
    "outputId": "fe7a7fb3-fe42-41bd-aeb2-6826ba3e9534"
   },
   "outputs": [
    {
     "name": "stdout",
     "output_type": "stream",
     "text": [
      "A person has 2 legs\n",
      "A cat has 4 legs\n",
      "A spider has 8 legs\n"
     ]
    }
   ],
   "source": [
    "d = {'person': 2, 'cat': 4, 'spider': 8}\n",
    "for animal, legs in d.items():        # Use .items() for python 3\n",
    "    print ('A %s has %d legs' % (animal, legs))"
   ]
  },
  {
   "cell_type": "markdown",
   "metadata": {
    "colab_type": "text",
    "id": "Ql_tJx6XM8Mj"
   },
   "source": [
    "Dictionary comprehensions: These are similar to list comprehensions, but allow you to easily construct dictionaries. For example:"
   ]
  },
  {
   "cell_type": "code",
   "execution_count": 0,
   "metadata": {
    "colab": {},
    "colab_type": "code",
    "id": "AuTJJJ11M8Mj"
   },
   "outputs": [],
   "source": [
    "nums = [0, 1, 2, 3, 4]\n",
    "even_num_to_square = {x: x ** 2 for x in nums if x % 2 == 0}\n",
    "print (even_num_to_square)"
   ]
  },
  {
   "cell_type": "markdown",
   "metadata": {
    "colab_type": "text",
    "id": "Nix7Tmpe0clY"
   },
   "source": [
    "#### OrderedDict and defaultdict"
   ]
  },
  {
   "cell_type": "markdown",
   "metadata": {
    "colab_type": "text",
    "id": "3UjjmeDn0clY"
   },
   "source": [
    "Two useful dict-like data structures that are often used are `OrderedDict` and `defaultdict`."
   ]
  },
  {
   "cell_type": "markdown",
   "metadata": {
    "colab_type": "text",
    "id": "750JroSA0clZ"
   },
   "source": [
    "\n",
    "`OrderedDict` are just like regular dictionaries but they remember *the order that items were inserted*. \n",
    "- When iterating over an ordered dictionary, the items are returned in the order their keys were first added.\n",
    "- Note that from Python 3.6+ `dict` behaves like OrderedDict by default (but not guaranteed). From Python 3.7, it is guaranteed."
   ]
  },
  {
   "cell_type": "code",
   "execution_count": 0,
   "metadata": {
    "colab": {},
    "colab_type": "code",
    "id": "hvgr_Oh30clZ"
   },
   "outputs": [],
   "source": [
    "from collections import OrderedDict\n",
    "\n",
    "d = OrderedDict()\n",
    "d['Y'] = 1\n",
    "d['Z'] = 2\n",
    "d['X'] = 3\n",
    "\n",
    "assert list(d.keys()) == ['Y', 'Z', 'X']\n",
    "for k, v in d.items():\n",
    "    print(k, v)"
   ]
  },
  {
   "cell_type": "markdown",
   "metadata": {
    "colab_type": "text",
    "id": "DffcfrJD0clc"
   },
   "source": [
    "`defaultdict` works just like regular dictionaries, but when a key is missing a *default factory* function will be called to fill in the default values."
   ]
  },
  {
   "cell_type": "code",
   "execution_count": 67,
   "metadata": {
    "colab": {
     "base_uri": "https://localhost:8080/",
     "height": 35
    },
    "colab_type": "code",
    "executionInfo": {
     "elapsed": 413,
     "status": "ok",
     "timestamp": 1579218156988,
     "user": {
      "displayName": "Sungryull Sohn",
      "photoUrl": "",
      "userId": "06647518667646069751"
     },
     "user_tz": 300
    },
    "id": "47qZsv8C0clc",
    "outputId": "0cd640e2-86ad-4a5e-b463-b771acc4869d"
   },
   "outputs": [
    {
     "data": {
      "text/plain": [
       "defaultdict(int, {'i': 4, 'm': 1, 'p': 2, 's': 4})"
      ]
     },
     "execution_count": 67,
     "metadata": {
      "tags": []
     },
     "output_type": "execute_result"
    }
   ],
   "source": [
    "from collections import defaultdict\n",
    "\n",
    "s = 'mississippi'\n",
    "d = defaultdict(int)\n",
    "for k in s:\n",
    "    d[k] += 1\n",
    "    \n",
    "d"
   ]
  },
  {
   "cell_type": "code",
   "execution_count": 68,
   "metadata": {
    "colab": {
     "base_uri": "https://localhost:8080/",
     "height": 35
    },
    "colab_type": "code",
    "executionInfo": {
     "elapsed": 348,
     "status": "ok",
     "timestamp": 1579218189606,
     "user": {
      "displayName": "Sungryull Sohn",
      "photoUrl": "",
      "userId": "06647518667646069751"
     },
     "user_tz": 300
    },
    "id": "ItkgD9Au0cld",
    "outputId": "60c75ee8-5ea7-4976-804a-43399f795230"
   },
   "outputs": [
    {
     "data": {
      "text/plain": [
       "{'i': 4, 'm': 1, 'p': 2, 's': 4}"
      ]
     },
     "execution_count": 68,
     "metadata": {
      "tags": []
     },
     "output_type": "execute_result"
    }
   ],
   "source": [
    "# compare to this (ugly):\n",
    "\n",
    "d = dict()\n",
    "for k in s:\n",
    "    if k in d:\n",
    "        d[k] += 1\n",
    "    else:\n",
    "        d[k] = 1\n",
    "d"
   ]
  },
  {
   "cell_type": "markdown",
   "metadata": {
    "colab_type": "text",
    "id": "BwFjjBn6M8Mk"
   },
   "source": [
    "#### Sets"
   ]
  },
  {
   "cell_type": "markdown",
   "metadata": {
    "colab_type": "text",
    "id": "ZLY29IXAM8Ml"
   },
   "source": [
    "A set is an unordered collection of distinct elements. As a simple example, consider the following:"
   ]
  },
  {
   "cell_type": "code",
   "execution_count": 0,
   "metadata": {
    "colab": {},
    "colab_type": "code",
    "id": "5dggyiXPM8Mm"
   },
   "outputs": [],
   "source": [
    "# syntax: use brace. (but no colon ':')\n",
    "animals = {'cat', 'dog'}\n",
    "print('cat' in animals)   # Check if an element is in a set; prints \"True\"\n",
    "print('fish' in animals)  # prints \"False\"\n"
   ]
  },
  {
   "cell_type": "code",
   "execution_count": 0,
   "metadata": {
    "colab": {},
    "colab_type": "code",
    "id": "oPoI_RGIM8Mp"
   },
   "outputs": [],
   "source": [
    "animals.add('fish')      # Add an element to a set\n",
    "print('fish' in animals)\n",
    "print(len(animals))       # Number of elements in a set;"
   ]
  },
  {
   "cell_type": "code",
   "execution_count": 69,
   "metadata": {
    "colab": {
     "base_uri": "https://localhost:8080/",
     "height": 238
    },
    "colab_type": "code",
    "executionInfo": {
     "elapsed": 323,
     "status": "error",
     "timestamp": 1579218336141,
     "user": {
      "displayName": "Sungryull Sohn",
      "photoUrl": "",
      "userId": "06647518667646069751"
     },
     "user_tz": 300
    },
    "id": "8osoZXXoM8Ms",
    "outputId": "a081a927-1ac4-4855-840d-ced024dfe50d"
   },
   "outputs": [
    {
     "ename": "AttributeError",
     "evalue": "ignored",
     "output_type": "error",
     "traceback": [
      "\u001b[0;31m---------------------------------------------------------------------------\u001b[0m",
      "\u001b[0;31mAttributeError\u001b[0m                            Traceback (most recent call last)",
      "\u001b[0;32m<ipython-input-69-e531aacd0de5>\u001b[0m in \u001b[0;36m<module>\u001b[0;34m()\u001b[0m\n\u001b[0;32m----> 1\u001b[0;31m \u001b[0manimals\u001b[0m\u001b[0;34m.\u001b[0m\u001b[0madd\u001b[0m\u001b[0;34m(\u001b[0m\u001b[0;34m'cat'\u001b[0m\u001b[0;34m)\u001b[0m       \u001b[0;31m# Adding an element that is already in the set does nothing\u001b[0m\u001b[0;34m\u001b[0m\u001b[0;34m\u001b[0m\u001b[0m\n\u001b[0m\u001b[1;32m      2\u001b[0m \u001b[0mprint\u001b[0m\u001b[0;34m(\u001b[0m\u001b[0mlen\u001b[0m\u001b[0;34m(\u001b[0m\u001b[0manimals\u001b[0m\u001b[0;34m)\u001b[0m\u001b[0;34m)\u001b[0m\u001b[0;34m\u001b[0m\u001b[0;34m\u001b[0m\u001b[0m\n\u001b[1;32m      3\u001b[0m \u001b[0;34m\u001b[0m\u001b[0m\n\u001b[1;32m      4\u001b[0m \u001b[0manimals\u001b[0m\u001b[0;34m.\u001b[0m\u001b[0mremove\u001b[0m\u001b[0;34m(\u001b[0m\u001b[0;34m'cat'\u001b[0m\u001b[0;34m)\u001b[0m    \u001b[0;31m# Remove an element from a set\u001b[0m\u001b[0;34m\u001b[0m\u001b[0;34m\u001b[0m\u001b[0m\n\u001b[1;32m      5\u001b[0m \u001b[0mprint\u001b[0m\u001b[0;34m(\u001b[0m\u001b[0mlen\u001b[0m\u001b[0;34m(\u001b[0m\u001b[0manimals\u001b[0m\u001b[0;34m)\u001b[0m\u001b[0;34m)\u001b[0m\u001b[0;34m\u001b[0m\u001b[0;34m\u001b[0m\u001b[0m\n",
      "\u001b[0;31mAttributeError\u001b[0m: 'list' object has no attribute 'add'"
     ]
    }
   ],
   "source": [
    "animals.add('cat')       # Adding an element that is already in the set does nothing\n",
    "print(len(animals))       \n",
    "\n",
    "animals.remove('cat')    # Remove an element from a set\n",
    "print(len(animals))"
   ]
  },
  {
   "cell_type": "markdown",
   "metadata": {
    "colab_type": "text",
    "id": "ktQQVBEbM8Mv"
   },
   "source": [
    "Loops: Iterating over a set has the same syntax as iterating over a list; however since sets are unordered, you cannot make assumptions about the order in which you visit the elements of the set:"
   ]
  },
  {
   "cell_type": "code",
   "execution_count": 0,
   "metadata": {
    "colab": {},
    "colab_type": "code",
    "id": "Q78POGXRM8Mv"
   },
   "outputs": [],
   "source": [
    "animals = {'cat', 'dog', 'fish'}\n",
    "animals |= {'bird'}  # Join two sets\n",
    "\n",
    "for idx, animal in enumerate(animals):\n",
    "    print('#%d: %s' % (idx + 1, animal))\n",
    "# Prints \"#1: fish\", \"#2: dog\", \"#3: cat\""
   ]
  },
  {
   "cell_type": "markdown",
   "metadata": {
    "colab_type": "text",
    "id": "o_1k1lU2M8Mw"
   },
   "source": [
    "Set comprehensions: Like lists and dictionaries, we can easily construct sets using set comprehensions:"
   ]
  },
  {
   "cell_type": "code",
   "execution_count": 0,
   "metadata": {
    "colab": {},
    "colab_type": "code",
    "id": "QqThgB8pM8Mx"
   },
   "outputs": [],
   "source": [
    "from math import sqrt\n",
    "{int(sqrt(x)) for x in range(30)}"
   ]
  },
  {
   "cell_type": "markdown",
   "metadata": {
    "colab_type": "text",
    "id": "awoNjl_p0clp"
   },
   "source": [
    "Compare to dict comprehensions:"
   ]
  },
  {
   "cell_type": "code",
   "execution_count": 0,
   "metadata": {
    "colab": {},
    "colab_type": "code",
    "id": "jzEloKpy0clp"
   },
   "outputs": [],
   "source": [
    "{int(sqrt(x)): x for x in range(30)}"
   ]
  },
  {
   "cell_type": "markdown",
   "metadata": {
    "colab_type": "text",
    "id": "Q_qNfHl6M8M3"
   },
   "source": [
    "### Functions"
   ]
  },
  {
   "cell_type": "markdown",
   "metadata": {
    "colab_type": "text",
    "id": "7NuUpp9qM8M3"
   },
   "source": [
    "Python functions are defined using the `def` keyword. For example:"
   ]
  },
  {
   "cell_type": "code",
   "execution_count": 70,
   "metadata": {
    "colab": {
     "base_uri": "https://localhost:8080/",
     "height": 70
    },
    "colab_type": "code",
    "executionInfo": {
     "elapsed": 367,
     "status": "ok",
     "timestamp": 1579218440151,
     "user": {
      "displayName": "Sungryull Sohn",
      "photoUrl": "",
      "userId": "06647518667646069751"
     },
     "user_tz": 300
    },
    "id": "B9tR4UBCM8M4",
    "outputId": "3ef072fd-f3af-4202-ae23-0efb75492f0e"
   },
   "outputs": [
    {
     "name": "stdout",
     "output_type": "stream",
     "text": [
      "negative\n",
      "zero\n",
      "positive\n"
     ]
    }
   ],
   "source": [
    "def sign(x):\n",
    "    if x > 0:\n",
    "        return 'positive'\n",
    "    elif x < 0:\n",
    "        return 'negative'\n",
    "    else:\n",
    "        return 'zero'\n",
    "\n",
    "for x in [-1, 0, 1]:\n",
    "    print(sign(x))"
   ]
  },
  {
   "cell_type": "markdown",
   "metadata": {
    "colab_type": "text",
    "id": "wCaFxv-9M8M5"
   },
   "source": [
    "We will often define functions to take optional keyword arguments, like this:"
   ]
  },
  {
   "cell_type": "code",
   "execution_count": 71,
   "metadata": {
    "colab": {
     "base_uri": "https://localhost:8080/",
     "height": 52
    },
    "colab_type": "code",
    "executionInfo": {
     "elapsed": 381,
     "status": "ok",
     "timestamp": 1579218483791,
     "user": {
      "displayName": "Sungryull Sohn",
      "photoUrl": "",
      "userId": "06647518667646069751"
     },
     "user_tz": 300
    },
    "id": "va9dbaHhM8M5",
    "outputId": "e5937045-240c-4db2-ca25-eee32fbc6eac"
   },
   "outputs": [
    {
     "name": "stdout",
     "output_type": "stream",
     "text": [
      "Hello, Bob!\n",
      "HELLO, FRED\n"
     ]
    }
   ],
   "source": [
    "def hello(name, loud=False):\n",
    "    if loud:\n",
    "        print('HELLO, %s' % name.upper())\n",
    "    else:\n",
    "        print('Hello, %s!' % name)\n",
    "\n",
    "hello('Bob')\n",
    "hello('Fred', loud=True)"
   ]
  },
  {
   "cell_type": "markdown",
   "metadata": {
    "colab_type": "text",
    "id": "pntXLS7SM8M7"
   },
   "source": [
    "### Classes"
   ]
  },
  {
   "cell_type": "markdown",
   "metadata": {
    "colab_type": "text",
    "id": "z5Zur_ZUM8M7"
   },
   "source": [
    "The syntax for defining classes in Python is straightforward:"
   ]
  },
  {
   "cell_type": "code",
   "execution_count": 0,
   "metadata": {
    "colab": {},
    "colab_type": "code",
    "id": "RG-zNqNDM8M7"
   },
   "outputs": [],
   "source": [
    "class Greeter:\n",
    "\n",
    "    # Constructor\n",
    "    def __init__(self, name):\n",
    "        self.name = name  # Create an instance variable\n",
    "\n",
    "    # Instance method\n",
    "    def greet(self, loud=False):\n",
    "        if loud:\n",
    "            print('HELLO, %s!' % self.name.upper())\n",
    "        else:\n",
    "            print('Hello, %s' % self.name)\n",
    "\n",
    "g = Greeter('Fred')  # Construct an instance of the Greeter class\n",
    "g.greet()            # Call an instance method; prints \"Hello, Fred\"\n",
    "g.greet(loud=True)   # Call an instance method; prints \"HELLO, FRED!\""
   ]
  },
  {
   "cell_type": "markdown",
   "metadata": {
    "colab_type": "text",
    "id": "UYvMf9SMM8NA"
   },
   "source": [
    "## Numpy"
   ]
  },
  {
   "cell_type": "markdown",
   "metadata": {
    "colab_type": "text",
    "id": "4_EG2CgfM8NB"
   },
   "source": [
    "Numpy is the core library for scientific computing in Python. It provides a high-performance multidimensional array object, and tools for working with these arrays. If you are already familiar with MATLAB, you might find this [tutorial](http://wiki.scipy.org/NumPy_for_Matlab_Users) useful to get started with Numpy."
   ]
  },
  {
   "cell_type": "markdown",
   "metadata": {
    "colab_type": "text",
    "id": "1-JtByo4M8NC"
   },
   "source": [
    "To use Numpy, we first need to import the `numpy` package:"
   ]
  },
  {
   "cell_type": "code",
   "execution_count": 0,
   "metadata": {
    "colab": {},
    "colab_type": "code",
    "id": "TUQ1Y2bbM8NC"
   },
   "outputs": [],
   "source": [
    "import numpy as np"
   ]
  },
  {
   "cell_type": "markdown",
   "metadata": {
    "colab_type": "text",
    "id": "OmiA9nKmM8ND"
   },
   "source": [
    "### Arrays"
   ]
  },
  {
   "cell_type": "markdown",
   "metadata": {
    "colab_type": "text",
    "id": "1TdF6AoFM8NE"
   },
   "source": [
    "A numpy array is a grid of values, all of the same type, and is indexed by a tuple of nonnegative integers. The number of dimensions is the rank of the array; the shape of an array is a tuple of integers giving the size of the array along each dimension."
   ]
  },
  {
   "cell_type": "markdown",
   "metadata": {
    "colab_type": "text",
    "id": "INOMny0RM8NE"
   },
   "source": [
    "We can initialize numpy arrays from nested Python lists, and access elements using square brackets:"
   ]
  },
  {
   "cell_type": "code",
   "execution_count": 73,
   "metadata": {
    "colab": {
     "base_uri": "https://localhost:8080/",
     "height": 52
    },
    "colab_type": "code",
    "executionInfo": {
     "elapsed": 419,
     "status": "ok",
     "timestamp": 1579218750078,
     "user": {
      "displayName": "Sungryull Sohn",
      "photoUrl": "",
      "userId": "06647518667646069751"
     },
     "user_tz": 300
    },
    "id": "xVTF5OYrM8NE",
    "outputId": "bfd4e5a5-b440-40fd-e3d4-4797d1f5e5a5"
   },
   "outputs": [
    {
     "name": "stdout",
     "output_type": "stream",
     "text": [
      "<class 'numpy.ndarray'> (3,) 1 2 3\n",
      "[5 2 3]\n"
     ]
    }
   ],
   "source": [
    "a = np.array([1, 2, 3])  # Create a rank 1 array\n",
    "print(type(a), a.shape, a[0], a[1], a[2])\n",
    "a[0] = 5                 # Change an element of the array\n",
    "print(a)"
   ]
  },
  {
   "cell_type": "code",
   "execution_count": 75,
   "metadata": {
    "colab": {
     "base_uri": "https://localhost:8080/",
     "height": 35
    },
    "colab_type": "code",
    "executionInfo": {
     "elapsed": 347,
     "status": "ok",
     "timestamp": 1579218825420,
     "user": {
      "displayName": "Sungryull Sohn",
      "photoUrl": "",
      "userId": "06647518667646069751"
     },
     "user_tz": 300
    },
    "id": "OKRTOQuAM8NH",
    "outputId": "bbeb3b2e-aec4-46ce-8342-3a37c01bfc7a"
   },
   "outputs": [
    {
     "name": "stdout",
     "output_type": "stream",
     "text": [
      "(2, 3)\n"
     ]
    }
   ],
   "source": [
    "b = np.array([[1, 2, 3], [4, 5, 6]])   # Create a rank 2 array\n",
    "b\n",
    "print(b.shape)"
   ]
  },
  {
   "cell_type": "code",
   "execution_count": 0,
   "metadata": {
    "colab": {},
    "colab_type": "code",
    "id": "ipb02i2x0cl2"
   },
   "outputs": [],
   "source": [
    "print(b[0, 0])   # preferred than b[0][0]\n",
    "print(b[0, 1])"
   ]
  },
  {
   "cell_type": "markdown",
   "metadata": {
    "colab_type": "text",
    "id": "jUKcaDsm0cl3"
   },
   "source": [
    "The two most basic properties of numpy array are `shape` and `dtype`. You can read all about numpy datatypes in the [documentation](http://docs.scipy.org/doc/numpy/reference/arrays.dtypes.html)."
   ]
  },
  {
   "cell_type": "code",
   "execution_count": 76,
   "metadata": {
    "colab": {
     "base_uri": "https://localhost:8080/",
     "height": 52
    },
    "colab_type": "code",
    "executionInfo": {
     "elapsed": 342,
     "status": "ok",
     "timestamp": 1579218867899,
     "user": {
      "displayName": "Sungryull Sohn",
      "photoUrl": "",
      "userId": "06647518667646069751"
     },
     "user_tz": 300
    },
    "id": "1koJd2ztM8NJ",
    "outputId": "abc10d72-7bc0-4a18-c490-8d3e54ffedeb"
   },
   "outputs": [
    {
     "name": "stdout",
     "output_type": "stream",
     "text": [
      "(2, 3)\n",
      "int64\n"
     ]
    }
   ],
   "source": [
    "print(b.shape)\n",
    "print(b.dtype)"
   ]
  },
  {
   "cell_type": "markdown",
   "metadata": {
    "colab_type": "text",
    "id": "poQJgDQFM8NM"
   },
   "source": [
    "Numpy also provides many functions to create arrays:"
   ]
  },
  {
   "cell_type": "code",
   "execution_count": 28,
   "metadata": {
    "colab": {
     "base_uri": "https://localhost:8080/",
     "height": 52
    },
    "colab_type": "code",
    "executionInfo": {
     "elapsed": 517,
     "status": "ok",
     "timestamp": 1579214795262,
     "user": {
      "displayName": "Sungryull Sohn",
      "photoUrl": "",
      "userId": "06647518667646069751"
     },
     "user_tz": 300
    },
    "id": "8YDblAlAM8NM",
    "outputId": "136e27f2-10a9-411d-ffee-3e2443c44d40"
   },
   "outputs": [
    {
     "data": {
      "text/plain": [
       "array([[0., 0.],\n",
       "       [0., 0.]])"
      ]
     },
     "execution_count": 28,
     "metadata": {
      "tags": []
     },
     "output_type": "execute_result"
    }
   ],
   "source": [
    "a = np.zeros((2, 2))  # Create an array of all zeros\n",
    "a"
   ]
  },
  {
   "cell_type": "code",
   "execution_count": 29,
   "metadata": {
    "colab": {
     "base_uri": "https://localhost:8080/",
     "height": 35
    },
    "colab_type": "code",
    "executionInfo": {
     "elapsed": 487,
     "status": "ok",
     "timestamp": 1579214796744,
     "user": {
      "displayName": "Sungryull Sohn",
      "photoUrl": "",
      "userId": "06647518667646069751"
     },
     "user_tz": 300
    },
    "id": "EEmsW6_cM8NN",
    "outputId": "dff9e545-e7a7-4ca7-ddc7-055e375d1479"
   },
   "outputs": [
    {
     "data": {
      "text/plain": [
       "array([[1., 1.]])"
      ]
     },
     "execution_count": 29,
     "metadata": {
      "tags": []
     },
     "output_type": "execute_result"
    }
   ],
   "source": [
    "b = np.ones((1, 2))   # Create an array of all ones\n",
    "b"
   ]
  },
  {
   "cell_type": "code",
   "execution_count": 30,
   "metadata": {
    "colab": {
     "base_uri": "https://localhost:8080/",
     "height": 52
    },
    "colab_type": "code",
    "executionInfo": {
     "elapsed": 601,
     "status": "ok",
     "timestamp": 1579214798698,
     "user": {
      "displayName": "Sungryull Sohn",
      "photoUrl": "",
      "userId": "06647518667646069751"
     },
     "user_tz": 300
    },
    "id": "S6920Z76M8NP",
    "outputId": "5403c3d5-3871-420c-c071-7ea35c6080ee"
   },
   "outputs": [
    {
     "data": {
      "text/plain": [
       "array([[7, 7],\n",
       "       [7, 7]])"
      ]
     },
     "execution_count": 30,
     "metadata": {
      "tags": []
     },
     "output_type": "execute_result"
    }
   ],
   "source": [
    "c = np.full((2, 2), 7) # Create a constant array\n",
    "c"
   ]
  },
  {
   "cell_type": "code",
   "execution_count": 31,
   "metadata": {
    "colab": {
     "base_uri": "https://localhost:8080/",
     "height": 52
    },
    "colab_type": "code",
    "executionInfo": {
     "elapsed": 578,
     "status": "ok",
     "timestamp": 1579214801475,
     "user": {
      "displayName": "Sungryull Sohn",
      "photoUrl": "",
      "userId": "06647518667646069751"
     },
     "user_tz": 300
    },
    "id": "o52S2AYoM8NQ",
    "outputId": "4991b4f5-6885-4262-c4d0-ff97d83f80cf"
   },
   "outputs": [
    {
     "data": {
      "text/plain": [
       "array([[1., 0.],\n",
       "       [0., 1.]])"
      ]
     },
     "execution_count": 31,
     "metadata": {
      "tags": []
     },
     "output_type": "execute_result"
    }
   ],
   "source": [
    "d = np.eye(2)        # Create a 2x2 identity matrix\n",
    "d"
   ]
  },
  {
   "cell_type": "code",
   "execution_count": 32,
   "metadata": {
    "colab": {
     "base_uri": "https://localhost:8080/",
     "height": 52
    },
    "colab_type": "code",
    "executionInfo": {
     "elapsed": 579,
     "status": "ok",
     "timestamp": 1579214805041,
     "user": {
      "displayName": "Sungryull Sohn",
      "photoUrl": "",
      "userId": "06647518667646069751"
     },
     "user_tz": 300
    },
    "id": "TxumUyyEM8NR",
    "outputId": "2ff67fd3-548a-4fe3-c79f-3f510b7a914d"
   },
   "outputs": [
    {
     "data": {
      "text/plain": [
       "array([[0.1883434 , 0.39331011],\n",
       "       [0.48874511, 0.22855958]])"
      ]
     },
     "execution_count": 32,
     "metadata": {
      "tags": []
     },
     "output_type": "execute_result"
    }
   ],
   "source": [
    "e = np.random.random((2, 2)) # Create an array filled with random values\n",
    "e"
   ]
  },
  {
   "cell_type": "code",
   "execution_count": 33,
   "metadata": {
    "colab": {
     "base_uri": "https://localhost:8080/",
     "height": 35
    },
    "colab_type": "code",
    "executionInfo": {
     "elapsed": 538,
     "status": "ok",
     "timestamp": 1579214809640,
     "user": {
      "displayName": "Sungryull Sohn",
      "photoUrl": "",
      "userId": "06647518667646069751"
     },
     "user_tz": 300
    },
    "id": "SK7-uHEK0cl_",
    "outputId": "02a653a9-dac8-4453-9b0b-e57c814cf405"
   },
   "outputs": [
    {
     "data": {
      "text/plain": [
       "array([0, 1, 2, 3, 4, 5, 6, 7, 8, 9])"
      ]
     },
     "execution_count": 33,
     "metadata": {
      "tags": []
     },
     "output_type": "execute_result"
    }
   ],
   "source": [
    "# Generate a vector of 10 integers in ascending order from 0 to 9\n",
    "np.arange(10, dtype=int)"
   ]
  },
  {
   "cell_type": "markdown",
   "metadata": {
    "colab_type": "text",
    "id": "xnahGdqxM8NS"
   },
   "source": [
    "### Array indexing"
   ]
  },
  {
   "cell_type": "markdown",
   "metadata": {
    "colab_type": "text",
    "id": "RDhQ1_RNM8NS"
   },
   "source": [
    "Numpy offers several ways to index into arrays."
   ]
  },
  {
   "cell_type": "markdown",
   "metadata": {
    "colab_type": "text",
    "id": "gu-mfm5oM8NT"
   },
   "source": [
    "**Slicing**: Similar to Python lists, numpy arrays can be sliced. Since arrays may be multidimensional, you must specify a slice for each dimension of the array:"
   ]
  },
  {
   "cell_type": "code",
   "execution_count": 77,
   "metadata": {
    "colab": {
     "base_uri": "https://localhost:8080/",
     "height": 70
    },
    "colab_type": "code",
    "executionInfo": {
     "elapsed": 386,
     "status": "ok",
     "timestamp": 1579219139208,
     "user": {
      "displayName": "Sungryull Sohn",
      "photoUrl": "",
      "userId": "06647518667646069751"
     },
     "user_tz": 300
    },
    "id": "BZx5RL6aM8NU",
    "outputId": "ad74db77-c740-4af7-bd72-fdae98316b99"
   },
   "outputs": [
    {
     "name": "stdout",
     "output_type": "stream",
     "text": [
      "(2, 2)\n",
      "[[2 3]\n",
      " [6 7]]\n"
     ]
    }
   ],
   "source": [
    "import numpy as np\n",
    "\n",
    "# Create the following rank 2 array with shape (3, 4)\n",
    "# [[ 1  2  3  4]\n",
    "#  [ 5  6  7  8]\n",
    "#  [ 9 10 11 12]]\n",
    "a = np.array([[1,2,3,4], [5,6,7,8], [9,10,11,12]])\n",
    "\n",
    "# Use slicing to pull out the subarray consisting of the first 2 rows\n",
    "# and columns 1 and 2; b is the following array of shape (2, 2):\n",
    "# [[2 3]\n",
    "#  [6 7]]\n",
    "b = a[:2, 1:3]\n",
    "print(b.shape)  # ?\n",
    "print(b)"
   ]
  },
  {
   "cell_type": "markdown",
   "metadata": {
    "colab_type": "text",
    "id": "9Y6deZ6xM8NV"
   },
   "source": [
    "A slice of an array is a **view into the same data**, so modifying it will modify the original array."
   ]
  },
  {
   "cell_type": "code",
   "execution_count": 78,
   "metadata": {
    "colab": {
     "base_uri": "https://localhost:8080/",
     "height": 105
    },
    "colab_type": "code",
    "executionInfo": {
     "elapsed": 359,
     "status": "ok",
     "timestamp": 1579219176478,
     "user": {
      "displayName": "Sungryull Sohn",
      "photoUrl": "",
      "userId": "06647518667646069751"
     },
     "user_tz": 300
    },
    "id": "eGFyjMUAM8NW",
    "outputId": "fc4cbde0-24f3-421a-efff-49ac0eff48a2"
   },
   "outputs": [
    {
     "name": "stdout",
     "output_type": "stream",
     "text": [
      "2\n",
      "77\n"
     ]
    },
    {
     "data": {
      "text/plain": [
       "array([[ 1, 77,  3,  4],\n",
       "       [ 5,  6,  7,  8],\n",
       "       [ 9, 10, 11, 12]])"
      ]
     },
     "execution_count": 78,
     "metadata": {
      "tags": []
     },
     "output_type": "execute_result"
    }
   ],
   "source": [
    "print(a[0, 1])\n",
    "b[0, 0] = 77    # b[0, 0] is the same piece of data as a[0, 1]\n",
    "print(a[0, 1])\n",
    "a"
   ]
  },
  {
   "cell_type": "markdown",
   "metadata": {
    "colab_type": "text",
    "id": "0Mwk2FQNM8NX"
   },
   "source": [
    "**Integer indexing V.S. slice indexing.** : Two ways of accessing the data in the middle row of the array.\n",
    "Mixing integer indexing with slices yields an array of lower rank,\n",
    "while using only slices yields an array of the same rank as the\n",
    "original array:"
   ]
  },
  {
   "cell_type": "code",
   "execution_count": 79,
   "metadata": {
    "colab": {
     "base_uri": "https://localhost:8080/",
     "height": 70
    },
    "colab_type": "code",
    "executionInfo": {
     "elapsed": 354,
     "status": "ok",
     "timestamp": 1579219194913,
     "user": {
      "displayName": "Sungryull Sohn",
      "photoUrl": "",
      "userId": "06647518667646069751"
     },
     "user_tz": 300
    },
    "id": "BrbNyVoJM8NX",
    "outputId": "4167d126-dc73-4cd7-fdb7-f6c92957496d"
   },
   "outputs": [
    {
     "data": {
      "text/plain": [
       "array([[ 1,  2,  3,  4],\n",
       "       [ 5,  6,  7,  8],\n",
       "       [ 9, 10, 11, 12]])"
      ]
     },
     "execution_count": 79,
     "metadata": {
      "tags": []
     },
     "output_type": "execute_result"
    }
   ],
   "source": [
    "# Create the following rank 2 array with shape (3, 4)\n",
    "a = np.array([[1,2,3,4], [5,6,7,8], [9,10,11,12]])\n",
    "a"
   ]
  },
  {
   "cell_type": "code",
   "execution_count": 80,
   "metadata": {
    "colab": {
     "base_uri": "https://localhost:8080/",
     "height": 70
    },
    "colab_type": "code",
    "executionInfo": {
     "elapsed": 411,
     "status": "ok",
     "timestamp": 1579219230301,
     "user": {
      "displayName": "Sungryull Sohn",
      "photoUrl": "",
      "userId": "06647518667646069751"
     },
     "user_tz": 300
    },
    "id": "7y6gQwivM8NZ",
    "outputId": "6d4d9baa-1fae-4e89-8f2f-a888bb43df8f"
   },
   "outputs": [
    {
     "name": "stdout",
     "output_type": "stream",
     "text": [
      "[5 6 7 8] (4,)\n",
      "[[5 6 7 8]] (1, 4)\n",
      "[[5 6 7 8]] (1, 4)\n"
     ]
    }
   ],
   "source": [
    "row_r1 = a[1, :]    # Rank 1 view of the second row of a  \n",
    "row_r2 = a[1:4, :]  # Rank 2 view of the second row of a\n",
    "row_r3 = a[[1], :]  # Rank 2 view of the second row of a\n",
    "print(row_r1, row_r1.shape)\n",
    "print(row_r2, row_r2.shape)\n",
    "print(row_r3, row_r3.shape)"
   ]
  },
  {
   "cell_type": "code",
   "execution_count": 81,
   "metadata": {
    "colab": {
     "base_uri": "https://localhost:8080/",
     "height": 87
    },
    "colab_type": "code",
    "executionInfo": {
     "elapsed": 304,
     "status": "ok",
     "timestamp": 1579219437232,
     "user": {
      "displayName": "Sungryull Sohn",
      "photoUrl": "",
      "userId": "06647518667646069751"
     },
     "user_tz": 300
    },
    "id": "zwlntSm3M8Na",
    "outputId": "22fd1592-3ba9-441b-9cf7-b80ff02a4fa9"
   },
   "outputs": [
    {
     "name": "stdout",
     "output_type": "stream",
     "text": [
      "[ 2  6 10] (3,)\n",
      "[[ 2]\n",
      " [ 6]\n",
      " [10]] (3, 1)\n"
     ]
    }
   ],
   "source": [
    "# We can make the same distinction when accessing columns of an array:\n",
    "col_r1 = a[:, 1]\n",
    "col_r2 = a[:, 1:2]\n",
    "print(col_r1, col_r1.shape)\n",
    "print(col_r2, col_r2.shape)"
   ]
  },
  {
   "cell_type": "markdown",
   "metadata": {
    "colab_type": "text",
    "id": "JQRkPnyzM8Nb"
   },
   "source": [
    "Integer array indexing: When you index into numpy arrays using slicing, the resulting array view will always be a subarray of the original array. In contrast, integer array indexing allows you to construct arbitrary arrays using the data from another array. Here is an example:"
   ]
  },
  {
   "cell_type": "code",
   "execution_count": 0,
   "metadata": {
    "colab": {},
    "colab_type": "code",
    "id": "LFEGbjesM8Nb"
   },
   "outputs": [],
   "source": [
    "a = np.array([[1,2], [3, 4], [5, 6]])\n",
    "\n",
    "# An example of integer array indexing.\n",
    "# The returned array will have shape (3,) and \n",
    "print(a[[0, 1, 2], [0, 1, 0]])\n",
    "\n",
    "# The above example of integer array indexing is equivalent to this:\n",
    "print(np.array([a[0, 0], a[1, 1], a[2, 0]]))"
   ]
  },
  {
   "cell_type": "code",
   "execution_count": 0,
   "metadata": {
    "colab": {},
    "colab_type": "code",
    "id": "DE7x5uAIM8Nd"
   },
   "outputs": [],
   "source": [
    "# When using integer array indexing, you can reuse the same\n",
    "# element from the source array:\n",
    "print(a[[0, 0], [1, 1]])\n",
    "\n",
    "# Equivalent to the previous integer array indexing example\n",
    "print(np.array([a[0, 1], a[0, 1]]))"
   ]
  },
  {
   "cell_type": "markdown",
   "metadata": {
    "colab_type": "text",
    "id": "7PhKBYTxM8Ne"
   },
   "source": [
    "One useful trick with integer array indexing is selecting or mutating one element from each row of a matrix:"
   ]
  },
  {
   "cell_type": "code",
   "execution_count": 0,
   "metadata": {
    "colab": {},
    "colab_type": "code",
    "id": "x7TW1KH3M8Ne"
   },
   "outputs": [],
   "source": [
    "# Create a new array from which we will select elements\n",
    "a = np.array([[1,2,3], [4,5,6], [7,8,9], [10, 11, 12]])\n",
    "a"
   ]
  },
  {
   "cell_type": "code",
   "execution_count": 0,
   "metadata": {
    "colab": {},
    "colab_type": "code",
    "id": "EmFK-pFIM8Ng"
   },
   "outputs": [],
   "source": [
    "# Create an array of indices\n",
    "col = np.array([0, 2, 0, 1])\n",
    "\n",
    "# Select one element from each row of a using the indices in b\n",
    "a[np.arange(4), col]  # Prints \"[ 1  6  7 11]\""
   ]
  },
  {
   "cell_type": "code",
   "execution_count": 0,
   "metadata": {
    "colab": {},
    "colab_type": "code",
    "id": "ME0-AqC5M8Nh"
   },
   "outputs": [],
   "source": [
    "# Mutate one element from each row of a using the indices in b\n",
    "a[np.arange(4), b] += 10\n",
    "a"
   ]
  },
  {
   "cell_type": "markdown",
   "metadata": {
    "colab_type": "text",
    "id": "QfQ70xPpM8Ni"
   },
   "source": [
    "For brevity we have left out a lot of details about numpy array indexing; if you want to know more you should read the documentation."
   ]
  },
  {
   "cell_type": "markdown",
   "metadata": {
    "colab_type": "text",
    "id": "VkmO-dRJM8No"
   },
   "source": [
    "### Array math"
   ]
  },
  {
   "cell_type": "markdown",
   "metadata": {
    "colab_type": "text",
    "id": "KzyLKfhZM8Nq"
   },
   "source": [
    "Basic mathematical functions operate elementwise on arrays, and are available both as operator overloads and as functions in the numpy module:"
   ]
  },
  {
   "cell_type": "code",
   "execution_count": 82,
   "metadata": {
    "colab": {
     "base_uri": "https://localhost:8080/",
     "height": 87
    },
    "colab_type": "code",
    "executionInfo": {
     "elapsed": 371,
     "status": "ok",
     "timestamp": 1579219508371,
     "user": {
      "displayName": "Sungryull Sohn",
      "photoUrl": "",
      "userId": "06647518667646069751"
     },
     "user_tz": 300
    },
    "id": "avSUc7G6M8Nq",
    "outputId": "a16af200-c97e-4808-f66d-a41e3c32eedf"
   },
   "outputs": [
    {
     "name": "stdout",
     "output_type": "stream",
     "text": [
      "[[ 6.  8.]\n",
      " [10. 12.]]\n",
      "[[ 6.  8.]\n",
      " [10. 12.]]\n"
     ]
    }
   ],
   "source": [
    "x = np.array([[1,2], [3,4]], dtype=np.float64)\n",
    "y = np.array([[5,6], [7,8]], dtype=np.float64)\n",
    "\n",
    "# Elementwise sum; both produce the array\n",
    "print(x + y)\n",
    "print(np.add(x, y))"
   ]
  },
  {
   "cell_type": "code",
   "execution_count": 83,
   "metadata": {
    "colab": {
     "base_uri": "https://localhost:8080/",
     "height": 87
    },
    "colab_type": "code",
    "executionInfo": {
     "elapsed": 327,
     "status": "ok",
     "timestamp": 1579219511750,
     "user": {
      "displayName": "Sungryull Sohn",
      "photoUrl": "",
      "userId": "06647518667646069751"
     },
     "user_tz": 300
    },
    "id": "Gx-mrj_lM8Ns",
    "outputId": "9c3c6334-85d6-4ab5-a60e-a5c3a529b91a"
   },
   "outputs": [
    {
     "name": "stdout",
     "output_type": "stream",
     "text": [
      "[[-4. -4.]\n",
      " [-4. -4.]]\n",
      "[[-4. -4.]\n",
      " [-4. -4.]]\n"
     ]
    }
   ],
   "source": [
    "# Elementwise difference; both produce the array\n",
    "print(x - y)\n",
    "print(np.subtract(x, y))"
   ]
  },
  {
   "cell_type": "code",
   "execution_count": 84,
   "metadata": {
    "colab": {
     "base_uri": "https://localhost:8080/",
     "height": 87
    },
    "colab_type": "code",
    "executionInfo": {
     "elapsed": 359,
     "status": "ok",
     "timestamp": 1579219513158,
     "user": {
      "displayName": "Sungryull Sohn",
      "photoUrl": "",
      "userId": "06647518667646069751"
     },
     "user_tz": 300
    },
    "id": "7RZKvAIUM8Nt",
    "outputId": "99aee0fe-33f5-40fc-e469-30ab1bf67b77"
   },
   "outputs": [
    {
     "name": "stdout",
     "output_type": "stream",
     "text": [
      "[[ 5. 12.]\n",
      " [21. 32.]]\n",
      "[[ 5. 12.]\n",
      " [21. 32.]]\n"
     ]
    }
   ],
   "source": [
    "# Elementwise product; both produce the array\n",
    "print(x * y)\n",
    "print(np.multiply(x, y))"
   ]
  },
  {
   "cell_type": "code",
   "execution_count": 85,
   "metadata": {
    "colab": {
     "base_uri": "https://localhost:8080/",
     "height": 87
    },
    "colab_type": "code",
    "executionInfo": {
     "elapsed": 348,
     "status": "ok",
     "timestamp": 1579219515459,
     "user": {
      "displayName": "Sungryull Sohn",
      "photoUrl": "",
      "userId": "06647518667646069751"
     },
     "user_tz": 300
    },
    "id": "2NIsPz-0M8Nu",
    "outputId": "ef8dbb3b-3f6d-4084-89ed-f282369156ee"
   },
   "outputs": [
    {
     "name": "stdout",
     "output_type": "stream",
     "text": [
      "[[0.2        0.33333333]\n",
      " [0.42857143 0.5       ]]\n",
      "[[0.2        0.33333333]\n",
      " [0.42857143 0.5       ]]\n"
     ]
    }
   ],
   "source": [
    "# Elementwise division; both produce the array\n",
    "# [[ 0.2         0.33333333]\n",
    "#  [ 0.42857143  0.5       ]]\n",
    "print(x / y)\n",
    "print(np.divide(x, y))"
   ]
  },
  {
   "cell_type": "code",
   "execution_count": 0,
   "metadata": {
    "colab": {},
    "colab_type": "code",
    "id": "misspegDM8Nw"
   },
   "outputs": [],
   "source": [
    "# Elementwise square root; produces the array\n",
    "# [[ 1.          1.41421356]\n",
    "#  [ 1.73205081  2.        ]]\n",
    "np.sqrt(x)"
   ]
  },
  {
   "cell_type": "markdown",
   "metadata": {
    "colab_type": "text",
    "id": "v1FM8HEEM8Ny"
   },
   "source": [
    "Note that unlike MATLAB, `*` is elementwise multiplication, not matrix multiplication. We instead use the dot function to compute inner products of vectors, to multiply a vector by a matrix, and to multiply matrices. dot is available both as a function in the numpy module and as an instance method of array objects:"
   ]
  },
  {
   "cell_type": "code",
   "execution_count": 86,
   "metadata": {
    "colab": {
     "base_uri": "https://localhost:8080/",
     "height": 52
    },
    "colab_type": "code",
    "executionInfo": {
     "elapsed": 431,
     "status": "ok",
     "timestamp": 1579219549231,
     "user": {
      "displayName": "Sungryull Sohn",
      "photoUrl": "",
      "userId": "06647518667646069751"
     },
     "user_tz": 300
    },
    "id": "qD79odriM8Nz",
    "outputId": "3ec7373e-55c3-4d9a-9d05-3109075a8a4c"
   },
   "outputs": [
    {
     "name": "stdout",
     "output_type": "stream",
     "text": [
      "219\n",
      "219\n"
     ]
    }
   ],
   "source": [
    "x = np.array([[1,2],[3,4]])\n",
    "y = np.array([[5,6],[7,8]])\n",
    "\n",
    "v = np.array([9,10])\n",
    "w = np.array([11, 12])\n",
    "\n",
    "# Inner product of vectors; both produce 219\n",
    "print(v.dot(w))\n",
    "print(np.dot(v, w))"
   ]
  },
  {
   "cell_type": "code",
   "execution_count": 87,
   "metadata": {
    "colab": {
     "base_uri": "https://localhost:8080/",
     "height": 52
    },
    "colab_type": "code",
    "executionInfo": {
     "elapsed": 437,
     "status": "ok",
     "timestamp": 1579219571189,
     "user": {
      "displayName": "Sungryull Sohn",
      "photoUrl": "",
      "userId": "06647518667646069751"
     },
     "user_tz": 300
    },
    "id": "ju--TIevM8N1",
    "outputId": "5595ec00-2e4c-4f11-d6a4-a0e82a961d9c"
   },
   "outputs": [
    {
     "name": "stdout",
     "output_type": "stream",
     "text": [
      "[29 67]\n",
      "[29 67]\n"
     ]
    }
   ],
   "source": [
    "# Matrix / vector product; both produce the rank 1 array [29 67]\n",
    "print(x.dot(v))\n",
    "print(np.dot(x, v))"
   ]
  },
  {
   "cell_type": "code",
   "execution_count": 88,
   "metadata": {
    "colab": {
     "base_uri": "https://localhost:8080/",
     "height": 87
    },
    "colab_type": "code",
    "executionInfo": {
     "elapsed": 318,
     "status": "ok",
     "timestamp": 1579219580716,
     "user": {
      "displayName": "Sungryull Sohn",
      "photoUrl": "",
      "userId": "06647518667646069751"
     },
     "user_tz": 300
    },
    "id": "KbaUA229M8N3",
    "outputId": "ea44468c-481e-42e6-babb-f54a4269faff"
   },
   "outputs": [
    {
     "name": "stdout",
     "output_type": "stream",
     "text": [
      "[[19 22]\n",
      " [43 50]]\n",
      "[[19 22]\n",
      " [43 50]]\n"
     ]
    }
   ],
   "source": [
    "# Matrix / matrix product; both produce the rank 2 array\n",
    "# [[19 22]\n",
    "#  [43 50]]\n",
    "print(x.dot(y))\n",
    "print(np.dot(x, y))"
   ]
  },
  {
   "cell_type": "markdown",
   "metadata": {
    "colab_type": "text",
    "id": "xtGljDROM8N5"
   },
   "source": [
    "Numpy provides many useful functions for performing computations on arrays; one of the most useful is `sum`:"
   ]
  },
  {
   "cell_type": "code",
   "execution_count": 89,
   "metadata": {
    "colab": {
     "base_uri": "https://localhost:8080/",
     "height": 70
    },
    "colab_type": "code",
    "executionInfo": {
     "elapsed": 338,
     "status": "ok",
     "timestamp": 1579219624374,
     "user": {
      "displayName": "Sungryull Sohn",
      "photoUrl": "",
      "userId": "06647518667646069751"
     },
     "user_tz": 300
    },
    "id": "21DRF7ugM8N5",
    "outputId": "b5c5c912-bd5f-46be-cd6e-4596da6f2a56"
   },
   "outputs": [
    {
     "name": "stdout",
     "output_type": "stream",
     "text": [
      "10\n",
      "[4 6]\n",
      "[3 7]\n"
     ]
    }
   ],
   "source": [
    "x = np.array([[1,2], [3,4]])\n",
    "\n",
    "print(np.sum(x))  # Compute sum of all elements; prints \"10\"\n",
    "print(np.sum(x, axis=0))  # Compute sum of each column; prints \"[4 6]\"\n",
    "print(np.sum(x, axis=1))  # Compute sum of each row; prints \"[3 7]\""
   ]
  },
  {
   "cell_type": "markdown",
   "metadata": {
    "colab_type": "text",
    "id": "OfB6gxm4M8N7"
   },
   "source": [
    "You can find the full list of mathematical functions provided by numpy in the [documentation](http://docs.scipy.org/doc/numpy/reference/routines.math.html).\n",
    "\n",
    "Apart from computing mathematical functions using arrays, we frequently need to reshape or otherwise manipulate data in arrays. The simplest example of this type of operation is transposing a matrix; to transpose a matrix, simply use the T attribute of an array object:"
   ]
  },
  {
   "cell_type": "code",
   "execution_count": 0,
   "metadata": {
    "colab": {},
    "colab_type": "code",
    "id": "-NQSGcy10cmb"
   },
   "outputs": [],
   "source": [
    "x.T"
   ]
  },
  {
   "cell_type": "code",
   "execution_count": 90,
   "metadata": {
    "colab": {
     "base_uri": "https://localhost:8080/",
     "height": 87
    },
    "colab_type": "code",
    "executionInfo": {
     "elapsed": 333,
     "status": "ok",
     "timestamp": 1579219694211,
     "user": {
      "displayName": "Sungryull Sohn",
      "photoUrl": "",
      "userId": "06647518667646069751"
     },
     "user_tz": 300
    },
    "id": "b9uLgWzmM8N9",
    "outputId": "dc6890a3-0be0-42c2-cd1f-373e96f4f3f4"
   },
   "outputs": [
    {
     "name": "stdout",
     "output_type": "stream",
     "text": [
      "[[1 2 3]]\n",
      "[[1]\n",
      " [2]\n",
      " [3]]\n"
     ]
    }
   ],
   "source": [
    "v = np.array([[1,2,3]])\n",
    "print(v)\n",
    "print(v.T)"
   ]
  },
  {
   "cell_type": "markdown",
   "metadata": {
    "colab_type": "text",
    "id": "iFvuhC3TM8N-"
   },
   "source": [
    "### Broadcasting"
   ]
  },
  {
   "cell_type": "markdown",
   "metadata": {
    "colab_type": "text",
    "id": "57diTLwIM8N-"
   },
   "source": [
    "Broadcasting is a powerful mechanism that allows numpy to work with arrays of different shapes when performing arithmetic operations. Frequently we have a smaller array and a larger array, and we want to use the smaller array multiple times to perform some operation on the larger array.\n",
    "\n",
    "For example, suppose that we want to add a constant vector to each row of a matrix. We could do it like this:"
   ]
  },
  {
   "cell_type": "code",
   "execution_count": 91,
   "metadata": {
    "colab": {
     "base_uri": "https://localhost:8080/",
     "height": 87
    },
    "colab_type": "code",
    "executionInfo": {
     "elapsed": 363,
     "status": "ok",
     "timestamp": 1579219771622,
     "user": {
      "displayName": "Sungryull Sohn",
      "photoUrl": "",
      "userId": "06647518667646069751"
     },
     "user_tz": 300
    },
    "id": "0A2x24cyM8N-",
    "outputId": "0df59ce1-2b3d-4743-e85a-1d0551740791"
   },
   "outputs": [
    {
     "data": {
      "text/plain": [
       "array([[ 2,  2,  4],\n",
       "       [ 5,  5,  7],\n",
       "       [ 8,  8, 10],\n",
       "       [11, 11, 13]])"
      ]
     },
     "execution_count": 91,
     "metadata": {
      "tags": []
     },
     "output_type": "execute_result"
    }
   ],
   "source": [
    "# We will add the vector v to each row of the matrix x,\n",
    "# storing the result in the matrix y\n",
    "x = np.array([[1,2,3], [4,5,6], [7,8,9], [10, 11, 12]])  # [4 x 3] matrix\n",
    "v = np.array([1, 0, 1])  # [3]-dim vector\n",
    "y = np.empty_like(x)   # Create an empty matrix with the same shape as x\n",
    "\n",
    "# Add the vector v to each row of the matrix x with an explicit loop\n",
    "for i in range(4):\n",
    "    y[i, :] = x[i, :] + v\n",
    "\n",
    "y"
   ]
  },
  {
   "cell_type": "markdown",
   "metadata": {
    "colab_type": "text",
    "id": "ITt10ZeEM8OA"
   },
   "source": [
    "This works; however when the matrix `x` is very large, computing an explicit loop in Python could be slow. Note that adding the vector v to each row of the matrix `x` is equivalent to forming a matrix `vv` by stacking multiple copies of `v` vertically, then performing elementwise summation of `x` and `vv`. We could implement this approach like this:"
   ]
  },
  {
   "cell_type": "code",
   "execution_count": 92,
   "metadata": {
    "colab": {
     "base_uri": "https://localhost:8080/",
     "height": 87
    },
    "colab_type": "code",
    "executionInfo": {
     "elapsed": 360,
     "status": "ok",
     "timestamp": 1579219837235,
     "user": {
      "displayName": "Sungryull Sohn",
      "photoUrl": "",
      "userId": "06647518667646069751"
     },
     "user_tz": 300
    },
    "id": "T6tRcoA9M8OA",
    "outputId": "325340a3-8604-43b2-bffe-2302c7060c52"
   },
   "outputs": [
    {
     "name": "stdout",
     "output_type": "stream",
     "text": [
      "[[1 0 1]\n",
      " [1 0 1]\n",
      " [1 0 1]\n",
      " [1 0 1]]\n"
     ]
    }
   ],
   "source": [
    "vv = np.tile(v, (4, 1))  # Stack 4 copies of v on top of each other\n",
    "print(vv)                # Prints \"[[1 0 1]\n",
    "                         #          [1 0 1]\n",
    "                         #          [1 0 1]\n",
    "                         #          [1 0 1]]\""
   ]
  },
  {
   "cell_type": "code",
   "execution_count": 93,
   "metadata": {
    "colab": {
     "base_uri": "https://localhost:8080/",
     "height": 87
    },
    "colab_type": "code",
    "executionInfo": {
     "elapsed": 323,
     "status": "ok",
     "timestamp": 1579219854323,
     "user": {
      "displayName": "Sungryull Sohn",
      "photoUrl": "",
      "userId": "06647518667646069751"
     },
     "user_tz": 300
    },
    "id": "U_ASA4KhM8OB",
    "outputId": "9a6bb4bf-68b6-486b-e229-c93e6f5f8891"
   },
   "outputs": [
    {
     "data": {
      "text/plain": [
       "array([[ 2,  2,  4],\n",
       "       [ 5,  5,  7],\n",
       "       [ 8,  8, 10],\n",
       "       [11, 11, 13]])"
      ]
     },
     "execution_count": 93,
     "metadata": {
      "tags": []
     },
     "output_type": "execute_result"
    }
   ],
   "source": [
    "y = x + vv  # Add x and vv elementwise\n",
    "y"
   ]
  },
  {
   "cell_type": "markdown",
   "metadata": {
    "colab_type": "text",
    "id": "Ih1OzIC6M8OC"
   },
   "source": [
    "Numpy broadcasting allows us to perform this computation without actually creating multiple copies of v. Consider this version, using broadcasting:"
   ]
  },
  {
   "cell_type": "code",
   "execution_count": 94,
   "metadata": {
    "colab": {
     "base_uri": "https://localhost:8080/",
     "height": 105
    },
    "colab_type": "code",
    "executionInfo": {
     "elapsed": 462,
     "status": "ok",
     "timestamp": 1579219870599,
     "user": {
      "displayName": "Sungryull Sohn",
      "photoUrl": "",
      "userId": "06647518667646069751"
     },
     "user_tz": 300
    },
    "id": "BUxUhwV-M8OD",
    "outputId": "ec1fa80c-9451-4979-8635-7119d2fdbb04"
   },
   "outputs": [
    {
     "name": "stdout",
     "output_type": "stream",
     "text": [
      "x.shape = (4, 3), v.shape=(3,)\n"
     ]
    },
    {
     "data": {
      "text/plain": [
       "array([[ 2,  2,  4],\n",
       "       [ 5,  5,  7],\n",
       "       [ 8,  8, 10],\n",
       "       [11, 11, 13]])"
      ]
     },
     "execution_count": 94,
     "metadata": {
      "tags": []
     },
     "output_type": "execute_result"
    }
   ],
   "source": [
    "print(f\"x.shape = {x.shape}, v.shape={v.shape}\")\n",
    "y = x + v  # Add v to each row of x using broadcasting\n",
    "y"
   ]
  },
  {
   "cell_type": "markdown",
   "metadata": {
    "colab_type": "text",
    "id": "U0Jc4RH0M8OD"
   },
   "source": [
    "The line `y = x + v` works even though `x` has shape `(4, 3)` and `v` has shape `(3,)` due to broadcasting; this line works as if v actually had shape `(4, 3)`, where each row was a copy of `v`, and the sum was performed elementwise.\n",
    "\n",
    "---\n",
    "Recommended: read the explanation from the [documentation](http://docs.scipy.org/doc/numpy/user/basics.broadcasting.html) or this [explanation](http://wiki.scipy.org/EricsBroadcastingDoc). Functions that support broadcasting are known as universal functions. You can find the list of all universal functions in the [documentation](http://docs.scipy.org/doc/numpy/reference/ufuncs.html#available-ufuncs).\n",
    "\n",
    "---\n",
    "\n",
    "Here are some applications of broadcasting:"
   ]
  },
  {
   "cell_type": "code",
   "execution_count": 95,
   "metadata": {
    "colab": {
     "base_uri": "https://localhost:8080/",
     "height": 70
    },
    "colab_type": "code",
    "executionInfo": {
     "elapsed": 688,
     "status": "ok",
     "timestamp": 1579219977709,
     "user": {
      "displayName": "Sungryull Sohn",
      "photoUrl": "",
      "userId": "06647518667646069751"
     },
     "user_tz": 300
    },
    "id": "_NqkH2oQM8OF",
    "outputId": "866875c0-4a0d-4054-950d-a878b7f69fef"
   },
   "outputs": [
    {
     "data": {
      "text/plain": [
       "array([[ 4,  5],\n",
       "       [ 8, 10],\n",
       "       [12, 15]])"
      ]
     },
     "execution_count": 95,
     "metadata": {
      "tags": []
     },
     "output_type": "execute_result"
    }
   ],
   "source": [
    "# Compute outer product of vectors\n",
    "v = np.array([1,2,3])  # v has shape (3,)\n",
    "w = np.array([4,5])    # w has shape (2,)\n",
    "# To compute an outer product, we first reshape v to be a column\n",
    "# vector of shape (3, 1); we can then broadcast it against w to yield\n",
    "# an output of shape (3, 2), which is the outer product of v and w:\n",
    "\n",
    "np.reshape(v, (3, 1)) * w"
   ]
  },
  {
   "cell_type": "code",
   "execution_count": 96,
   "metadata": {
    "colab": {
     "base_uri": "https://localhost:8080/",
     "height": 52
    },
    "colab_type": "code",
    "executionInfo": {
     "elapsed": 313,
     "status": "ok",
     "timestamp": 1579219986898,
     "user": {
      "displayName": "Sungryull Sohn",
      "photoUrl": "",
      "userId": "06647518667646069751"
     },
     "user_tz": 300
    },
    "id": "5eoo_eytM8OF",
    "outputId": "3f07098a-ace4-4f0c-8cff-ed92d9145434"
   },
   "outputs": [
    {
     "data": {
      "text/plain": [
       "array([[2, 4, 6],\n",
       "       [5, 7, 9]])"
      ]
     },
     "execution_count": 96,
     "metadata": {
      "tags": []
     },
     "output_type": "execute_result"
    }
   ],
   "source": [
    "# Add a vector to each row of a matrix\n",
    "x = np.array([[1,2,3], [4,5,6]])\n",
    "# x has shape (2, 3) and v has shape (3,) so they broadcast to (2, 3),\n",
    "# giving the following matrix:\n",
    "\n",
    "x + v"
   ]
  },
  {
   "cell_type": "code",
   "execution_count": 0,
   "metadata": {
    "colab": {},
    "colab_type": "code",
    "id": "FPJQqwVAM8OG"
   },
   "outputs": [],
   "source": []
  },
  {
   "cell_type": "code",
   "execution_count": 0,
   "metadata": {
    "colab": {},
    "colab_type": "code",
    "id": "lM1bUiSNM8OH"
   },
   "outputs": [],
   "source": []
  },
  {
   "cell_type": "code",
   "execution_count": 0,
   "metadata": {
    "colab": {},
    "colab_type": "code",
    "id": "9I1vO33FM8OI"
   },
   "outputs": [],
   "source": [
    "# Multiply a matrix by a constant:\n",
    "# x has shape (2, 3). Numpy treats scalars as arrays of shape ();\n",
    "# these can be broadcast together to shape (2, 3), producing the\n",
    "# following array:\n",
    "x * 2"
   ]
  },
  {
   "cell_type": "markdown",
   "metadata": {
    "colab_type": "text",
    "id": "_Xq4T6XyM8OJ"
   },
   "source": [
    "Broadcasting typically makes your code more concise and faster, so you should strive to use it where possible."
   ]
  },
  {
   "cell_type": "markdown",
   "metadata": {
    "colab_type": "text",
    "id": "lPZ-xTqq0cmq"
   },
   "source": [
    "### More Useful Operations"
   ]
  },
  {
   "cell_type": "code",
   "execution_count": 98,
   "metadata": {
    "colab": {
     "base_uri": "https://localhost:8080/",
     "height": 263
    },
    "colab_type": "code",
    "executionInfo": {
     "elapsed": 425,
     "status": "ok",
     "timestamp": 1579220013602,
     "user": {
      "displayName": "Sungryull Sohn",
      "photoUrl": "",
      "userId": "06647518667646069751"
     },
     "user_tz": 300
    },
    "id": "bZEFUQfn0cmq",
    "outputId": "ff321077-93d6-4f7f-816e-4ba5907ea11e"
   },
   "outputs": [
    {
     "data": {
      "text/plain": [
       "array([[[ 0,  1,  2,  3,  4],\n",
       "        [ 5,  6,  7,  8,  9],\n",
       "        [10, 11, 12, 13, 14],\n",
       "        [15, 16, 17, 18, 19]],\n",
       "\n",
       "       [[20, 21, 22, 23, 24],\n",
       "        [25, 26, 27, 28, 29],\n",
       "        [30, 31, 32, 33, 34],\n",
       "        [35, 36, 37, 38, 39]],\n",
       "\n",
       "       [[40, 41, 42, 43, 44],\n",
       "        [45, 46, 47, 48, 49],\n",
       "        [50, 51, 52, 53, 54],\n",
       "        [55, 56, 57, 58, 59]]])"
      ]
     },
     "execution_count": 98,
     "metadata": {
      "tags": []
     },
     "output_type": "execute_result"
    }
   ],
   "source": [
    "# np.transpose\n",
    "a = np.arange(60).reshape([3, 4, -1])\n",
    "a"
   ]
  },
  {
   "cell_type": "code",
   "execution_count": 0,
   "metadata": {
    "colab": {},
    "colab_type": "code",
    "id": "ydDnJF1E0cmq"
   },
   "outputs": [],
   "source": [
    "# np.swapaxes"
   ]
  },
  {
   "cell_type": "code",
   "execution_count": 0,
   "metadata": {
    "colab": {},
    "colab_type": "code",
    "id": "N2bSKxZx0cmr"
   },
   "outputs": [],
   "source": [
    "# np.newaxis"
   ]
  },
  {
   "cell_type": "code",
   "execution_count": 0,
   "metadata": {
    "colab": {},
    "colab_type": "code",
    "id": "t6kLsbW30cms"
   },
   "outputs": [],
   "source": [
    "# np.ravel (flatten)"
   ]
  },
  {
   "cell_type": "code",
   "execution_count": 0,
   "metadata": {
    "colab": {},
    "colab_type": "code",
    "id": "uspd5a_R0cms"
   },
   "outputs": [],
   "source": [
    "# Transpose BGR -> RGB Image\n",
    "import scipy.misc\n",
    "a = scipy.misc.face()"
   ]
  },
  {
   "cell_type": "code",
   "execution_count": 0,
   "metadata": {
    "colab": {},
    "colab_type": "code",
    "id": "fhuo4ShT0cmt"
   },
   "outputs": [],
   "source": [
    "# np.hstack\n",
    "# np.vstack\n",
    "\n",
    "a = np.full([2, 2], 1)\n",
    "b = np.full([2, 3], 2)\n",
    "c = np.full([2, 5], 3)"
   ]
  },
  {
   "cell_type": "markdown",
   "metadata": {
    "colab_type": "text",
    "id": "b5dBDmgW0cmt"
   },
   "source": [
    "#### Self-study example"
   ]
  },
  {
   "cell_type": "markdown",
   "metadata": {
    "colab_type": "text",
    "id": "Db8AhPHq0cmu"
   },
   "source": [
    "Let's compute a pairwise Euclidean distance matrix for feature vectors $X \\in \\mathbb{R}^{n \\times d}$:\n",
    "\n",
    "We want to have a distance matrix $D(i, j) \\in \\mathbb{R}^{n \\times n}$ such that\n",
    "$$\n",
    "  D(i, j) = \\sqrt{ \\sum_k (X[i, k] - X[j, k])^2 }\n",
    "$$"
   ]
  },
  {
   "cell_type": "code",
   "execution_count": 0,
   "metadata": {
    "colab": {},
    "colab_type": "code",
    "id": "11MSGsQ20cmu"
   },
   "outputs": [],
   "source": [
    "#!pip install scikit-learn\n",
    "from sklearn.datasets import load_iris\n",
    "X, _ = load_iris(return_X_y=True)\n",
    "X.shape"
   ]
  },
  {
   "cell_type": "code",
   "execution_count": 0,
   "metadata": {
    "colab": {},
    "colab_type": "code",
    "id": "dGuCMEid0cmv"
   },
   "outputs": [],
   "source": [
    "import numpy as np\n",
    "def compute_distance(X):\n",
    "    result = np.zeros([X.shape[0], X.shape[0]])\n",
    "    \n",
    "    for i, x in enumerate(X):\n",
    "        for j, y in enumerate(X):\n",
    "            result[i, j] = np.sum((x - y)**2) ** 0.5\n",
    "    return result\n",
    "            \n",
    "%time D_slow = compute_distance(X)\n",
    "D_slow"
   ]
  },
  {
   "cell_type": "markdown",
   "metadata": {
    "colab_type": "text",
    "id": "9TlNk5Qp0cmw"
   },
   "source": [
    "But we can do it more efficient using broadcasting and vector arithmetic.\n",
    "\n",
    "Hint: Think about what the value of $X(i) - X^\\top(j)$ will be."
   ]
  },
  {
   "cell_type": "code",
   "execution_count": 0,
   "metadata": {
    "colab": {},
    "colab_type": "code",
    "id": "7dKrz1xp0cmw"
   },
   "outputs": [],
   "source": [
    "def compute_distance_fast(X):\n",
    "    B = X[:, None, :]                # [150, 1, 4]\n",
    "    C = np.transpose(B, [1, 0, 2])   # [1, 150, 4]\n",
    "    return np.sqrt(np.sum((B - C)**2, axis=2))\n",
    "            \n",
    "%time D_fast = compute_distance_fast(X)\n",
    "assert np.allclose(D_slow, D_fast, atol=1e-9)"
   ]
  },
  {
   "cell_type": "markdown",
   "metadata": {
    "colab_type": "text",
    "id": "9qV0a2zdM8OJ"
   },
   "source": [
    "This brief overview has touched on many of the important things that you need to know about numpy, but is far from complete.\n",
    "\n",
    "Check out:\n",
    "\n",
    "- The [numpy reference](http://docs.scipy.org/doc/numpy/reference/)\n",
    "- [Python For Data Science Cheat Sheet for Numpy Basics](https://s3.amazonaws.com/assets.datacamp.com/blog_assets/Numpy_Python_Cheat_Sheet.pdf)\n",
    "\n",
    "to find out much more about numpy."
   ]
  }
 ],
 "metadata": {
  "colab": {
   "collapsed_sections": [
    "DZh66kH8M8LI",
    "EH3yvm1HM8LK",
    "-MHrCWl6M8Lf",
    "n1VD6DXDM8Lp",
    "QBRlf-mfM8Lz",
    "o8G26F7ZM8L0",
    "C-YjJInGM8ME",
    "8G-8ILjeM8MG",
    "YuBvxIaQM8ML",
    "v50uFu8tM8MV",
    "BwFjjBn6M8Mk",
    "gGzhREWvM8My",
    "pntXLS7SM8M7",
    "UYvMf9SMM8NA",
    "OmiA9nKmM8ND",
    "xnahGdqxM8NS",
    "gsoQHHjRM8Nm",
    "VkmO-dRJM8No",
    "iFvuhC3TM8N-",
    "3Tiv_suuM8OM",
    "zW8zZ81sTAk2",
    "fRnnsytOTAlf"
   ],
   "name": "EECS545_WN2020_Python_Tutorial_modified.ipynb",
   "provenance": []
  },
  "kernelspec": {
   "display_name": "Python 3",
   "language": "python",
   "name": "python3"
  },
  "language_info": {
   "codemirror_mode": {
    "name": "ipython",
    "version": 3
   },
   "file_extension": ".py",
   "mimetype": "text/x-python",
   "name": "python",
   "nbconvert_exporter": "python",
   "pygments_lexer": "ipython3",
   "version": "3.7.2"
  }
 },
 "nbformat": 4,
 "nbformat_minor": 1
}
